{
 "cells": [
  {
   "cell_type": "markdown",
   "id": "ce75ba68-9bbd-4bdc-b843-7b84f160ae63",
   "metadata": {},
   "source": [
    "# PROYECTO EDA: 'ANÁLISIS EXPLOTARIO DE IMPACTOS/OBERSERVACIONES DE METEORITOS.'"
   ]
  },
  {
   "cell_type": "markdown",
   "id": "5278adc7-a7ed-465e-b6ce-843ded9a796b",
   "metadata": {},
   "source": [
    "## IMPORTS."
   ]
  },
  {
   "cell_type": "code",
   "execution_count": 50,
   "id": "2020880b-7119-4761-9935-25b11ff69701",
   "metadata": {},
   "outputs": [],
   "source": [
    "import numpy as np\n",
    "import pandas as pd\n",
    "import datetime\n",
    "import matplotlib.pyplot as plt\n",
    "import seaborn as sns"
   ]
  },
  {
   "cell_type": "markdown",
   "id": "0457c574-2150-4ffa-8b55-45ef930a5fc7",
   "metadata": {},
   "source": [
    "## CARGA DE DATOS."
   ]
  },
  {
   "cell_type": "markdown",
   "id": "1ec40e2e-4bff-426b-89cb-5fd0dd502f91",
   "metadata": {},
   "source": [
    "### Dataset: NASA."
   ]
  },
  {
   "cell_type": "code",
   "execution_count": null,
   "id": "3e505d7c-6959-441c-acda-b3c3b1052cf8",
   "metadata": {},
   "outputs": [],
   "source": [
    "# Importo el dataset principal con el que voy a trabajar.\n",
    "\n",
    "data_nasa = pd.read_csv('./data/dataset_nasa.csv')\n",
    "\n",
    "# Compruebo que se ha cargado correctamente.\n",
    "\n",
    "data_nasa.head()"
   ]
  },
  {
   "cell_type": "code",
   "execution_count": null,
   "id": "c565fe23-73bb-4238-ac9b-7b855470071e",
   "metadata": {},
   "outputs": [],
   "source": [
    "data_nasa.shape"
   ]
  },
  {
   "cell_type": "markdown",
   "id": "a7cd9539-5050-4dce-b35e-6231b43fec72",
   "metadata": {},
   "source": [
    "### Dataset: International Meteor Organization. (1999 - 2020)."
   ]
  },
  {
   "cell_type": "code",
   "execution_count": null,
   "id": "a38568c8-4b57-46f2-9cb8-ce44de85811c",
   "metadata": {},
   "outputs": [],
   "source": [
    "# Importo uno de los datasets auxiliares.\n",
    "\n",
    "data_imo = pd.read_csv('./data/IMO/data/dataset_imo_1999_2020.csv')\n",
    "\n",
    "# Compruebo que se ha cargado correctamente.\n",
    "\n",
    "data_imo.head()"
   ]
  },
  {
   "cell_type": "code",
   "execution_count": null,
   "id": "6fc7a7a0-dfcd-47c9-882b-b8a18e4243d1",
   "metadata": {},
   "outputs": [],
   "source": [
    "data_imo.shape"
   ]
  },
  {
   "cell_type": "markdown",
   "id": "e9ae2ddf-08c8-47cd-830c-4c7993185537",
   "metadata": {},
   "source": [
    "### Dataset: IMO Observations (1972 - 2021)."
   ]
  },
  {
   "cell_type": "code",
   "execution_count": null,
   "id": "682cfe64-ad21-4624-9353-625d5ec4b26c",
   "metadata": {},
   "outputs": [],
   "source": [
    "# Importo el último dataset auxiliar.\n",
    "\n",
    "data_imo_obs = pd.read_csv('./data/dataset_imo_observations.csv', sep = ';')\n",
    "\n",
    "# Compruebo que se ha subido correctamente.\n",
    "\n",
    "data_imo_obs.head()"
   ]
  },
  {
   "cell_type": "code",
   "execution_count": null,
   "id": "40a1349f-cb6f-403a-85c8-524a9e02a4e3",
   "metadata": {},
   "outputs": [],
   "source": [
    "data_imo_obs.shape"
   ]
  },
  {
   "cell_type": "markdown",
   "id": "1a7300cd-cd35-45f0-8427-1e6cd3e087f8",
   "metadata": {},
   "source": [
    "## Limpieza y transformación de datos."
   ]
  },
  {
   "cell_type": "markdown",
   "id": "4402ca1e-f034-4a7f-ab5e-ffe77c9b86cd",
   "metadata": {},
   "source": [
    "### Dataset: NASA."
   ]
  },
  {
   "cell_type": "code",
   "execution_count": null,
   "id": "d7c9a5c4-d5ed-439e-9cb9-e041c59892fa",
   "metadata": {},
   "outputs": [],
   "source": [
    "# Voy a comenzar sacando la información del dataset y comprobando el procentaje de NaN's.\n",
    "\n",
    "data_nasa.info()"
   ]
  },
  {
   "cell_type": "code",
   "execution_count": null,
   "id": "abd05cd9-d159-4f93-8b37-0ae427ac1964",
   "metadata": {},
   "outputs": [],
   "source": [
    "data_nasa.info"
   ]
  },
  {
   "cell_type": "code",
   "execution_count": null,
   "id": "d1701492-6a4d-4e32-bd1a-be037112b305",
   "metadata": {},
   "outputs": [],
   "source": [
    "# Ya nos hacemos a la idea de que habrá algunos NaN's, veamos su porcentaje.\n",
    "\n",
    "porcentaje_missings = data_nasa.isnull().sum() * 100 / len(data_nasa)\n",
    "df_missings = pd.DataFrame({'Nombres': data_nasa.columns,\n",
    "                                 'Porcentaje NaNs': porcentaje_missings})\n",
    "df_missings"
   ]
  },
  {
   "cell_type": "code",
   "execution_count": null,
   "id": "1c229f4c-2156-4376-b5c9-7b2b7309cca4",
   "metadata": {},
   "outputs": [],
   "source": [
    "# Tenemos algunos missings en la columna 'year', 'mass', y un porcentaje mayor en las columnas que incluyen las coordenadas.\n",
    "\n",
    "# Voy a comprobar los valores de la columna 'year' para ver si hay algún dato erróneo.\n",
    "\n",
    "nasa_cleaning = data_nasa.copy()\n",
    "\n",
    "print(nasa_cleaning['year'].max())\n",
    "print(nasa_cleaning['year'].min())"
   ]
  },
  {
   "cell_type": "code",
   "execution_count": null,
   "id": "229b70a1-3ff7-4d06-bfb2-758bbc34f358",
   "metadata": {},
   "outputs": [],
   "source": [
    "\"\"\"\n",
    "Según comprobé, el primer meteorito registrado es del año 860, \n",
    "por tanto lo ese será el mínimo de mi filtro, y 2021 el máximo,\n",
    "como es lógico, ya que no se puede haber encontrado un \n",
    "meteorito del futuro (pero molaría mucho la verdad).\n",
    "\"\"\"\n",
    "\n",
    "# Aplico el filtro.\n",
    "\n",
    "nasa_cleaning_2 = nasa_cleaning.loc[(nasa_cleaning['year'] >= 860) & (nasa_cleaning['year'] <= 2021)]"
   ]
  },
  {
   "cell_type": "code",
   "execution_count": null,
   "id": "ba1308c0-d4c5-4cf2-ae51-2128c8bbcf60",
   "metadata": {},
   "outputs": [],
   "source": [
    "# Compruebo.\n",
    "\n",
    "print(nasa_cleaning_2['year'].max())\n",
    "print(nasa_cleaning_2['year'].min())"
   ]
  },
  {
   "cell_type": "code",
   "execution_count": null,
   "id": "aa619ac4-9273-4f02-9a76-66a90f934f83",
   "metadata": {},
   "outputs": [],
   "source": [
    "# Cambio el tipo de 'year' de 'float64' a 'int64' para evitar el '.0'.\n",
    "\n",
    "nasa_cleaning_2['year'] = nasa_cleaning_2['year'].astype(np.int64)"
   ]
  },
  {
   "cell_type": "code",
   "execution_count": null,
   "id": "71702c46-816d-4bc5-9a22-2aa93315e3a0",
   "metadata": {},
   "outputs": [],
   "source": [
    "# Compruebo.\n",
    "\n",
    "nasa_cleaning_2['year']"
   ]
  },
  {
   "cell_type": "code",
   "execution_count": null,
   "id": "97b454de-e403-4be0-b6e3-30731fbd3a09",
   "metadata": {},
   "outputs": [],
   "source": [
    "# Ahora voy a filtrar las columnas 'reclat' y 'long'.\n",
    "\n",
    "# Primero voy a prescindir de aquellas coordenadas que sean = 0.\n",
    "\n",
    "nasa_cleaning_3 = nasa_cleaning_2.loc[(nasa_cleaning_2['reclat'] != 0) & (nasa_cleaning_2['reclong'] != 0)]"
   ]
  },
  {
   "cell_type": "code",
   "execution_count": null,
   "id": "c23d02ae-6c28-4dd9-b0cb-7137bd6baaf5",
   "metadata": {},
   "outputs": [],
   "source": [
    "# Compruebo cómo ha quedado después del filtro.\n",
    "\n",
    "nasa_cleaning_3.info()"
   ]
  },
  {
   "cell_type": "code",
   "execution_count": null,
   "id": "ce05e3c5-b6bc-4771-a837-4b2daf0a3c77",
   "metadata": {},
   "outputs": [],
   "source": [
    "\"\"\"\n",
    "Primero tenía que eliminar las coordenadas = 0, ya que al mostrarlas más\n",
    "tarde en un mapa iban a ser meteoritos que no iban a representarse.\n",
    "Una vez hecho esto, como también tengo algunos NaN's en 'year' y 'mass',\n",
    "ya puedo hacer un '.dropna()' para eliminar todas las filas con NaN's,\n",
    "y así dejar el dataset limpio de datos nulos.\n",
    "\"\"\"\n",
    "\n",
    "# Elimino las filas con NaN's para ambas columnas.\n",
    "\n",
    "nasa_cleaning_4 = nasa_cleaning_3.copy()\n",
    "nasa_cleaning_4 = nasa_cleaning_4.dropna()"
   ]
  },
  {
   "cell_type": "code",
   "execution_count": null,
   "id": "9906dbde-b388-4f8a-bb96-72647c03bcfc",
   "metadata": {},
   "outputs": [],
   "source": [
    "# Compruebo que se ha llevado a cabo correctamente.\n",
    "\n",
    "nasa_cleaning_4.info()"
   ]
  },
  {
   "cell_type": "code",
   "execution_count": null,
   "id": "0f2e081a-ae47-4aab-89b7-169f3e1f175d",
   "metadata": {},
   "outputs": [],
   "source": [
    "# Ahora que no tengo 'missings', voy a convertir la columna 'mass' a de 'float' a 'int' para evitar los decimales.\n",
    "\n",
    "nasa_cleaning_4['mass'] = nasa_cleaning_4['mass'].astype(np.int64)"
   ]
  },
  {
   "cell_type": "code",
   "execution_count": null,
   "id": "1aab743d-c4bd-456c-a55d-54f122747c50",
   "metadata": {},
   "outputs": [],
   "source": [
    "# Compruebo.\n",
    "\n",
    "nasa_cleaning_4['mass'].max()"
   ]
  },
  {
   "cell_type": "code",
   "execution_count": null,
   "id": "ee0bb68f-9529-4d78-82f4-5d2f7d44c4ee",
   "metadata": {},
   "outputs": [],
   "source": [
    "# A continuación voy a eliminar la columna 'Geolocation', ya que contiene información duplicada de 'reclat' y 'relong' en otro formato.\n",
    "\n",
    "nasa_cleaning_4 = nasa_cleaning_4.drop(['GeoLocation'], axis = 1)"
   ]
  },
  {
   "cell_type": "code",
   "execution_count": null,
   "id": "cba2015d-e622-4a0b-ae37-e8f93ab0656f",
   "metadata": {},
   "outputs": [],
   "source": [
    "# Compruebo.\n",
    "\n",
    "nasa_cleaning_4.columns"
   ]
  },
  {
   "cell_type": "code",
   "execution_count": null,
   "id": "21a9099b-5e36-40e7-800e-58e15c446692",
   "metadata": {},
   "outputs": [],
   "source": [
    "\"\"\"\n",
    "Planeo hacer mis visualizaciones en Power BI, \n",
    "pero se me plantea un problema con las coordenadas, \n",
    "y es que Power BI ignora los puntos, por tanto\n",
    "se me cargarían las coordenadas con números enteros.\n",
    "Necesito que las separaciones sean dadas por ','.\n",
    "\"\"\"\n",
    "\n",
    "# Primero voy a pasar ambas columnas a type 'str'.\n",
    "\n",
    "nasa_cleaning_5 = nasa_cleaning_4.copy()\n",
    "nasa_cleaning_5['reclat'] = nasa_cleaning_5['reclat'].astype(str)\n",
    "nasa_cleaning_5['reclong'] = nasa_cleaning_5['reclong'].astype(str)"
   ]
  },
  {
   "cell_type": "code",
   "execution_count": null,
   "id": "9db7f91d-68bc-41ed-9a8f-84914b057156",
   "metadata": {},
   "outputs": [],
   "source": [
    "# Ahora haré un replace para cambiar '.' por ','.\n",
    "\n",
    "nasa_cleaning_5['reclat'] = nasa_cleaning_5['reclat'].str.replace('.',',')"
   ]
  },
  {
   "cell_type": "code",
   "execution_count": null,
   "id": "5d44ebd1-e009-4e6e-b725-946403e14cad",
   "metadata": {},
   "outputs": [],
   "source": [
    "# Compruebo.\n",
    "\n",
    "nasa_cleaning_5['reclat']"
   ]
  },
  {
   "cell_type": "code",
   "execution_count": null,
   "id": "3dc54044-a37c-4089-b041-5a99d77fe0ff",
   "metadata": {},
   "outputs": [],
   "source": [
    "nasa_cleaning_5['reclong'] = nasa_cleaning_5['reclong'].str.replace('.',',')"
   ]
  },
  {
   "cell_type": "code",
   "execution_count": null,
   "id": "35433ba1-2201-4716-bf86-f837afcc67b8",
   "metadata": {},
   "outputs": [],
   "source": [
    "# Compruebo.\n",
    "\n",
    "nasa_cleaning_5['reclong']"
   ]
  },
  {
   "cell_type": "code",
   "execution_count": null,
   "id": "e5721b14-5689-40fa-90cc-94e51e198041",
   "metadata": {},
   "outputs": [],
   "source": [
    "\"\"\"\n",
    "A continuación, como hay 392 subtipos de meteoritos,\n",
    "para clasificarlos más fácilmente voy a usar 'replace'\n",
    "para agrupar cada subcatería en su categoría principal.\n",
    "\n",
    "A saber, dichas categorías son:\n",
    "\n",
    "CC: Carbonaceous Chondrite\n",
    "OC: Ordinary Chondrite\n",
    "M: Martian\n",
    "AA: Asteroidal Achondrites\n",
    "PA: Primitive Achondrites\n",
    "L: Lunar\n",
    "EC: Enstatite Chondrite\n",
    "AOC: Other Chondrite Groups(not in one of the major classes)\n",
    "P: Pallasites\n",
    "MG: Mesosiderite Group\n",
    "MIM: Magmatic Iron Meteorite Groups\n",
    "NMIM: Non-magmatic or Primitive Iron Meteorite Groups\n",
    "UN: Not Enough Information (Ungrouped or Unknown)\n",
    "\"\"\"\n",
    "\n",
    "# Compruebo los valores únicos de la columna 'recclass' y su conteo.\n",
    "\n",
    "print(nasa_cleaning_5['recclass'].unique())\n",
    "print(nasa_cleaning_5['recclass'].nunique())"
   ]
  },
  {
   "cell_type": "code",
   "execution_count": null,
   "id": "2f0ce245-f5f2-490c-9013-ca3ec5fcf838",
   "metadata": {},
   "outputs": [],
   "source": [
    "# Hago otra copia, como he ido haciendo de forma sistemática cada vez que voy a aplicar un nuevo cambio.\n",
    "\n",
    "nasa_cleaning_6 = nasa_cleaning_5.copy()"
   ]
  },
  {
   "cell_type": "code",
   "execution_count": null,
   "id": "e551af05-dc6d-441a-a04d-7baa596ddbb7",
   "metadata": {},
   "outputs": [],
   "source": [
    "nasa_cleaning_6.recclass.replace(to_replace=['Acapulcoite', 'Acapulcoite/Lodranite', 'Acapulcoite/lodranite',\n",
    "           'Lodranite','Lodranite-an','Winonaite','Achondrite-prim'],value='PA',inplace=True)\n",
    "\n",
    "nasa_cleaning_6.recclass.replace(to_replace=['Angrite', 'Aubrite','Aubrite-an','Ureilite', 'Ureilite-an','Ureilite-pmict',\n",
    "           'Brachinite','Diogenite', 'Diogenite-an', 'Diogenite-olivine', 'Diogenite-pm',\n",
    "           'Eucrite', 'Eucrite-Mg rich', 'Eucrite-an', 'Eucrite-br','Eucrite-cm',\n",
    "           'Eucrite-mmict', 'Eucrite-pmict', 'Eucrite-unbr','Howardite'],value='AA',inplace=True)\n",
    "\n",
    "nasa_cleaning_6.recclass.replace(to_replace=['Lunar', 'Lunar (anorth)', 'Lunar (bas. breccia)',\n",
    "           'Lunar (bas/anor)', 'Lunar (bas/gab brec)', 'Lunar (basalt)',\n",
    "           'Lunar (feldsp. breccia)', 'Lunar (gabbro)', 'Lunar (norite)'],value='L',inplace=True)\n",
    "\n",
    "nasa_cleaning_6.recclass.replace(to_replace=['Martian', 'Martian (OPX)','Martian (chassignite)', 'Martian (nakhlite)',\n",
    "           'Martian (shergottite)','Martian (basaltic breccia)'],value='M',inplace=True)\n",
    "\n",
    "nasa_cleaning_6.recclass.replace(to_replace=['C','C2','C4','C4/5','C6','C1-ung', 'C1/2-ung','C2-ung',\n",
    "           'C3-ung', 'C3/4-ung','C4-ung','C5/6-ung',\n",
    "           'CB', 'CBa', 'CBb', 'CH/CBb', 'CH3', 'CH3 ', 'CI1', 'CK', 'CK3',\n",
    "           'CK3-an', 'CK3.8', 'CK3/4', 'CK4', 'CK4-an', 'CK4/5', 'CK5',\n",
    "           'CK5/6', 'CK6', 'CM', 'CM-an', 'CM1', 'CM1/2', 'CM2', 'CM2-an',\n",
    "           'CO3', 'CO3 ', 'CO3.0', 'CO3.1', 'CO3.2', 'CO3.3', 'CO3.4', 'CO3.5',\n",
    "           'CO3.6', 'CO3.7', 'CO3.8', 'CR', 'CR-an', 'CR1', 'CR2', 'CR2-an',\n",
    "           'CV2', 'CV3', 'CV3-an','CR7'],value='CC',inplace=True)\n",
    "\n",
    "nasa_cleaning_6.recclass.replace(to_replace=['OC', 'OC3','H', 'H(5?)', 'H(?)4', 'H(L)3', 'H(L)3-an', 'H-an','H-imp melt',\n",
    "           'H-melt rock', 'H-metal', 'H/L3', 'H/L3-4', 'H/L3.5',\n",
    "           'H/L3.6', 'H/L3.7', 'H/L3.9', 'H/L4', 'H/L4-5', 'H/L4/5', 'H/L5',\n",
    "           'H/L6', 'H/L6-melt rock', 'H/L~4', 'H3', 'H3 ', 'H3-4', 'H3-5',\n",
    "           'H3-6', 'H3-an', 'H3.0', 'H3.0-3.4', 'H3.1', 'H3.10', 'H3.2',\n",
    "           'H3.2-3.7', 'H3.2-6', 'H3.2-an', 'H3.3', 'H3.4', 'H3.4-5',\n",
    "           'H3.4/3.5', 'H3.5', 'H3.5-4', 'H3.6', 'H3.6-6', 'H3.7', 'H3.7-5',\n",
    "           'H3.7-6', 'H3.7/3.8', 'H3.8', 'H3.8-4', 'H3.8-5', 'H3.8-6',\n",
    "           'H3.8-an', 'H3.8/3.9', 'H3.8/4', 'H3.9', 'H3.9-5', 'H3.9-6',\n",
    "           'H3.9/4', 'H3/4', 'H4', 'H4 ', 'H4(?)', 'H4-5', 'H4-6', 'H4-an',\n",
    "           'H4/5', 'H4/6', 'H5', 'H5 ', 'H5-6', 'H5-7', 'H5-an',\n",
    "           'H5-melt breccia', 'H5/6', 'H6', 'H6 ', 'H6-melt breccia', 'H6/7',\n",
    "           'H7', 'H?','H~4', 'H~4/5', 'H~5', 'H~6','L', 'L(?)3',\n",
    "           'L(H)3', 'L(LL)3', 'L(LL)3.05', 'L(LL)3.5-3.7', 'L(LL)5', 'L(LL)6',\n",
    "           'L(LL)~4', 'L-imp melt', 'L-melt breccia', 'L-melt rock', 'L-metal',\n",
    "           'L/LL', 'L/LL(?)3', 'L/LL-melt rock', 'L/LL3', 'L/LL3-5', 'L/LL3-6',\n",
    "           'L/LL3.10', 'L/LL3.2', 'L/LL3.4', 'L/LL3.5', 'L/LL3.6/3.7', 'L/LL4',\n",
    "           'L/LL4-6', 'L/LL4/5', 'L/LL5', 'L/LL5-6', 'L/LL5/6', 'L/LL6',\n",
    "           'L/LL6-an', 'L/LL~4', 'L/LL~5', 'L/LL~6', 'L3', 'L3-4', 'L3-5',\n",
    "           'L3-6', 'L3-7', 'L3.0', 'L3.0-3.7', 'L3.0-3.9', 'L3.05', 'L3.1',\n",
    "           'L3.10', 'L3.2', 'L3.2-3.5', 'L3.2-3.6', 'L3.3', 'L3.3-3.5',\n",
    "           'L3.3-3.6', 'L3.3-3.7', 'L3.4', 'L3.4-3.7', 'L3.5', 'L3.5-3.7',\n",
    "           'L3.5-3.8', 'L3.5-3.9', 'L3.5-5', 'L3.6', 'L3.6-4', 'L3.7',\n",
    "           'L3.7-3.9', 'L3.7-4', 'L3.7-6', 'L3.7/3.8', 'L3.8', 'L3.8-5',\n",
    "           'L3.8-6', 'L3.8-an', 'L3.9', 'L3.9-5', 'L3.9-6', 'L3.9/4', 'L3/4',\n",
    "           'L4', 'L4 ', 'L4-5', 'L4-6', 'L4-an', 'L4-melt rock', 'L4/5', 'L5',\n",
    "           'L5 ', 'L5-6', 'L5-7', 'L5/6', 'L6', 'L6 ', 'L6-melt breccia',\n",
    "           'L6-melt rock', 'L6/7', 'L7', 'LL', 'LL(L)3', 'LL-melt rock', 'LL3',\n",
    "           'LL3-4', 'LL3-5', 'LL3-6', 'LL3.0', 'LL3.00', 'LL3.1', 'LL3.1-3.5',\n",
    "           'LL3.10', 'LL3.15', 'LL3.2', 'LL3.3', 'LL3.4', 'LL3.5', 'LL3.6',\n",
    "           'LL3.7', 'LL3.7-6', 'LL3.8', 'LL3.8-6', 'LL3.9', 'LL3.9/4', 'LL3/4',\n",
    "           'LL4', 'LL4-5', 'LL4-6', 'LL4/5', 'LL4/6', 'LL5', 'LL5-6', 'LL5-7',\n",
    "           'LL5/6', 'LL6', 'LL6 ', 'LL6(?)', 'LL6/7', 'LL7', 'LL7(?)',\n",
    "           'LL<3.5', 'LL~3', 'LL~4', 'LL~4/5', 'LL~5', 'LL~6',\n",
    "           'L~3', 'L~4', 'L~5', 'L~6','Relict H','Relict OC','LL-melt breccia','H-melt breccia',\n",
    "                                 'L5-melt breccia','LL-imp melt','H3.05','LL6-melt breccia',\n",
    "                                 'LL3.05','H4-melt breccia','LL3.8-4','L3.00','L~4-6','LL6-an',\n",
    "                                 'L4-melt breccia','LL(L)3.1','L3-melt breccia','H3.15'],value='OC',inplace=True)\n",
    "\n",
    "nasa_cleaning_6.recclass.replace(to_replace=['EH','EH-imp melt', 'EH3', 'EH3/4-an', 'EH4', 'EH4/5', 'EH5', 'EH6',\n",
    "           'EH6-an', 'EH7', 'EH7-an', 'EL3', 'EL3/4', 'EL4', 'EL4/5', 'EL5',\n",
    "           'EL6', 'EL6 ', 'EL6/7', 'EL7','E','E3','E4', 'E5','E6','EL-melt rock'],value='EC',inplace=True)\n",
    "\n",
    "nasa_cleaning_6.recclass.replace(to_replace=['K', 'K3','R', 'R3', 'R3-4', 'R3-5', 'R3-6', 'R3.4', 'R3.5-6',\n",
    "           'R3.6', 'R3.7', 'R3.8', 'R3.8-5', 'R3.8-6', 'R3.9', 'R3/4', 'R4',\n",
    "           'R4/5', 'R5', 'R6','R3.5-4'],value='AOC',inplace=True)\n",
    "\n",
    "nasa_cleaning_6.recclass.replace(to_replace=['Pallasite', 'Pallasite, PES','Pallasite, PMG',\n",
    "           'Pallasite, PMG-an', 'Pallasite, ungrouped',\n",
    "           'Pallasite?'],value='P',inplace=True)\n",
    "\n",
    "nasa_cleaning_6.recclass.replace(to_replace=['Mesosiderite', 'Mesosiderite-A','Mesosiderite-A1',\n",
    "           'Mesosiderite-A2', 'Mesosiderite-A3','Mesosiderite-A3/4',\n",
    "           'Mesosiderite-A4', 'Mesosiderite-B','Mesosiderite-B1',\n",
    "           'Mesosiderite-B2', 'Mesosiderite-B4','Mesosiderite-C',\n",
    "           'Mesosiderite-C2', 'Mesosiderite-an','Mesosiderite?'],value='MG',inplace=True)\n",
    "\n",
    "nasa_cleaning_6.recclass.replace(to_replace=['Iron, IC', 'Iron, IC-an', 'Iron, IIAB', 'Iron, IIAB-an',\n",
    "           'Iron, IIC', 'Iron, IID', 'Iron, IID-an','Iron, IIF', 'Iron, IIG',\n",
    "           'Iron, IIIAB', 'Iron, IIIAB-an', 'Iron, IIIAB?', 'Iron, IIIE',\n",
    "           'Iron, IIIE-an', 'Iron, IIIF', 'Iron, IVA', 'Iron, IVA-an',\n",
    "           'Iron, IVB'],value='MIM',inplace=True)\n",
    "\n",
    "nasa_cleaning_6.recclass.replace(to_replace=['Iron, IAB complex', 'Iron, IAB-MG','Iron, IAB-an', 'Iron, IAB-sHH',\n",
    "           'Iron, IAB-sHL', 'Iron, IAB-sLH','Iron, IAB-sLL', 'Iron, IAB-sLM',\n",
    "           'Iron, IAB-ung', 'Iron, IAB?','Iron, IIE',\n",
    "           'Iron, IIE-an', 'Iron, IIE?'],value='NMIM',inplace=True)\n",
    "\n",
    "nasa_cleaning_6.recclass.replace(to_replace=['Iron','Iron?','Relict iron','Chondrite-fusion crust',\n",
    "           'Fusion crust','Impact melt breccia',\n",
    "           'Enst achon-ung','Iron, ungrouped','Stone-uncl', 'Stone-ung',\n",
    "           'Unknown','Achondrite-ung','Chondrite-ung',\n",
    "           'Enst achon','E-an',  'E3-an',  'E5-an','Howardite-an','C3.0-ung','Iron, IAB-sHL-an'],value='UN',inplace=True)"
   ]
  },
  {
   "cell_type": "code",
   "execution_count": null,
   "id": "91cf37b4-578e-4a12-a882-ecd38294d5df",
   "metadata": {},
   "outputs": [],
   "source": [
    "# Compruebo.\n",
    "\n",
    "print(nasa_cleaning_6['recclass'].unique())\n",
    "print(nasa_cleaning_6['recclass'].nunique())"
   ]
  },
  {
   "cell_type": "code",
   "execution_count": null,
   "id": "363aba94-bf03-4e04-a755-ff5d6d91caae",
   "metadata": {},
   "outputs": [],
   "source": [
    "nasa_cleaning_6"
   ]
  },
  {
   "cell_type": "code",
   "execution_count": null,
   "id": "46e5ffdb-15ac-4eae-9137-816c81fac6c9",
   "metadata": {},
   "outputs": [],
   "source": [
    "# Al haber eliminado filas anteriormente, ahora necesito resetear el index.\n",
    "\n",
    "nasa_cleaning_7 = nasa_cleaning_6.copy()\n",
    "\n",
    "# Compruebo el len del dataframe.\n",
    "\n",
    "print(len(nasa_cleaning_7))\n",
    "\n",
    "nasa_cleaning_7.reset_index(inplace = True, drop = True)"
   ]
  },
  {
   "cell_type": "code",
   "execution_count": null,
   "id": "eba348c3-1f94-499d-83a9-67877adf3449",
   "metadata": {},
   "outputs": [],
   "source": [
    "# Compruebo.\n",
    "\n",
    "nasa_cleaning_7"
   ]
  },
  {
   "cell_type": "code",
   "execution_count": null,
   "id": "3cdde49a-41b8-4b42-a868-3a7b6d754a08",
   "metadata": {},
   "outputs": [],
   "source": [
    "# Por mera comodidad, voy a cambiar el nombre de algunas columnas.\n",
    "\n",
    "nasa_cleaning_7.rename(columns={'recclass':'class', 'nametype':'type', 'reclat':'lat', 'reclong':'long'}, inplace=True)"
   ]
  },
  {
   "cell_type": "code",
   "execution_count": null,
   "id": "089fba46-c957-4434-9f4d-cd44b4cc0e0c",
   "metadata": {},
   "outputs": [],
   "source": [
    "# Compruebo.\n",
    "\n",
    "nasa_cleaning_7.columns"
   ]
  },
  {
   "cell_type": "code",
   "execution_count": null,
   "id": "8d581401-cb5a-4013-8a43-b44051842d56",
   "metadata": {},
   "outputs": [],
   "source": [
    "\"\"\"\n",
    "Ya he realizado la limpieza de datos, así como\n",
    "las transformaciones que he creído necesarias.\n",
    "Por último, comprobaré que los datos están bien\n",
    "otra vez más, y lo guardaré como un '.csv'\n",
    "independiente.\n",
    "\"\"\"\n",
    "\n",
    "data_nasa_ready = nasa_cleaning_7.copy()"
   ]
  },
  {
   "cell_type": "code",
   "execution_count": null,
   "id": "539b0dbb-d586-4282-890c-aed67e9d10d2",
   "metadata": {},
   "outputs": [],
   "source": [
    "# Realizo las comprobaciones.\n",
    "\n",
    "data_nasa_ready.head"
   ]
  },
  {
   "cell_type": "code",
   "execution_count": null,
   "id": "47b08dc9-7414-4024-a3d6-ae2825fffb18",
   "metadata": {},
   "outputs": [],
   "source": [
    "data_nasa_ready.info()"
   ]
  },
  {
   "cell_type": "code",
   "execution_count": null,
   "id": "0deb1494-1319-4532-a206-6b7e5a64618e",
   "metadata": {},
   "outputs": [],
   "source": [
    "porcentaje_missings_2 = data_nasa_ready.isnull().sum() * 100 / len(data_nasa_ready)\n",
    "df_missings_2 = pd.DataFrame({'Nombres': data_nasa_ready.columns,\n",
    "                                 'Porcentaje NaNs': porcentaje_missings_2})\n",
    "df_missings_2"
   ]
  },
  {
   "cell_type": "code",
   "execution_count": null,
   "id": "a62657fd-633b-42ab-8ece-58528dc3b0b5",
   "metadata": {},
   "outputs": [],
   "source": [
    "# Guardo el archivo en mi carpeta 'data' como '.csv'.\n",
    "\n",
    "data_nasa_ready.to_csv('./data/dataset_nasa_ready.csv', index = False)"
   ]
  },
  {
   "cell_type": "markdown",
   "id": "78366fb1-7f13-4ba3-b9ee-582df7a8b800",
   "metadata": {},
   "source": [
    "### Dataset: International Meteor Organization. (1999 - 2020)."
   ]
  },
  {
   "cell_type": "code",
   "execution_count": null,
   "id": "0163a014-9d01-4853-87bd-119ac0fdd01f",
   "metadata": {},
   "outputs": [],
   "source": [
    "\"\"\"\n",
    "En principio este dataset debe de venir limpio,\n",
    "y como no voy a hacer gran cosa con el solo voy a\n",
    "a hacer algunas comprobaciones, pero nada más.\n",
    "\"\"\"\n",
    "\n",
    "data_imo.head()"
   ]
  },
  {
   "cell_type": "code",
   "execution_count": null,
   "id": "97f9093c-1586-4a96-a348-ba863c84b2f8",
   "metadata": {},
   "outputs": [],
   "source": [
    "data_imo.info()"
   ]
  },
  {
   "cell_type": "code",
   "execution_count": null,
   "id": "b4b09e5c-1376-46bc-ac86-c4ddb8104a49",
   "metadata": {},
   "outputs": [],
   "source": [
    "# Compruebo el porcentaje de NaN's.\n",
    "\n",
    "porcentaje_missings_3 = data_imo.isnull().sum() * 100 / len(data_imo)\n",
    "df_missings_3 = pd.DataFrame({'Nombres': data_imo.columns,\n",
    "                                 'Porcentaje NaNs': porcentaje_missings_3})\n",
    "df_missings_3\n",
    "\n",
    "# Puedo ver al ejecutar que el porcentaje de 'missings' es muy pequeño, por tanto no voy a limpiarlo."
   ]
  },
  {
   "cell_type": "markdown",
   "id": "63c0eedf-4818-4b60-b1ee-65d52138cd81",
   "metadata": {},
   "source": [
    "### Dataset: IMO Observations (1972 - 2021)."
   ]
  },
  {
   "cell_type": "code",
   "execution_count": null,
   "id": "1d4971fd-99bf-4c23-888b-913f1556ae4e",
   "metadata": {},
   "outputs": [],
   "source": [
    "# Solo voy a realizar unas comprobaciones, como en el dataset anterior.\n",
    "\n",
    "data_imo_obs.head()"
   ]
  },
  {
   "cell_type": "code",
   "execution_count": null,
   "id": "acbd2ab7-c8d8-4429-9eba-82c45b28b60f",
   "metadata": {},
   "outputs": [],
   "source": [
    "data_imo_obs.info()"
   ]
  },
  {
   "cell_type": "code",
   "execution_count": null,
   "id": "95ea4e18-8880-465a-9cf7-5b8584612b14",
   "metadata": {},
   "outputs": [],
   "source": [
    "# Comrpuebo el porcentaje de NaN's.\n",
    "\n",
    "porcentaje_missings_4 = data_imo_obs.isnull().sum() * 100 / len(data_imo)\n",
    "df_missings_4 = pd.DataFrame({'Nombres': data_imo_obs.columns,\n",
    "                                 'Porcentaje NaNs': porcentaje_missings_4})\n",
    "df_missings_4\n",
    "\n",
    "# No tiene 'missings' (además este dataset es muy pequeño, casi se ve a simple vista)."
   ]
  },
  {
   "cell_type": "markdown",
   "id": "8b79a2d1-269e-436b-bfa3-f89d833e16c3",
   "metadata": {},
   "source": [
    "## VISUALIZACIONES Y A. EXPLORATORIO."
   ]
  },
  {
   "cell_type": "code",
   "execution_count": null,
   "id": "65f4af4a-2e77-49f2-b5f3-f461b5a4a072",
   "metadata": {},
   "outputs": [],
   "source": [
    "\"\"\"\n",
    "La mayoría de visualizaciones las voy a \n",
    "realizar en Power BI (para eso he estado\n",
    "preparando el dataset en su limpieza).\n",
    "Aquí haré alguna solo si es necesario.\n",
    "\"\"\""
   ]
  },
  {
   "cell_type": "code",
   "execution_count": 94,
   "id": "e897a06e-0449-4e6a-a380-253baef611cb",
   "metadata": {},
   "outputs": [],
   "source": [
    "# Pretendo sacar un 'plot' de 'mass', pero la diferencia de valores es tan grande que me puede dar problemas para visualizarlo.\n",
    "\n",
    "# Haré algunas pruebas y me quedaré con la que mejor se vea."
   ]
  },
  {
   "cell_type": "code",
   "execution_count": 78,
   "id": "8f104bbc-5bfe-40d8-ad86-55faed405ba2",
   "metadata": {},
   "outputs": [
    {
     "data": {
      "text/plain": [
       "<AxesSubplot:xlabel='mass', ylabel='Density'>"
      ]
     },
     "execution_count": 78,
     "metadata": {},
     "output_type": "execute_result"
    },
    {
     "data": {
      "image/png": "[encoded data removed]",
      "text/plain": [
       "<Figure size 1080x576 with 1 Axes>"
      ]
     },
     "metadata": {
      "needs_background": "light"
     },
     "output_type": "display_data"
    }
   ],
   "source": [
    "plt.figure(figsize = (15,8))\n",
    "sns.kdeplot(data_nasa_ready['mass'])"
   ]
  },
  {
   "cell_type": "code",
   "execution_count": 95,
   "id": "3031c5fe-0e6b-49d0-a7fb-5950c732f716",
   "metadata": {},
   "outputs": [
    {
     "name": "stderr",
     "output_type": "stream",
     "text": [
      "C:\\Users\\rafam\\anaconda3\\lib\\site-packages\\seaborn\\distributions.py:2557: FutureWarning: `distplot` is a deprecated function and will be removed in a future version. Please adapt your code to use either `displot` (a figure-level function with similar flexibility) or `histplot` (an axes-level function for histograms).\n",
      "  warnings.warn(msg, FutureWarning)\n"
     ]
    },
    {
     "data": {
      "image/png": "[encoded data removed]",
      "text/plain": [
       "<Figure size 1080x576 with 1 Axes>"
      ]
     },
     "metadata": {
      "needs_background": "light"
     },
     "output_type": "display_data"
    }
   ],
   "source": [
    "plt.figure(figsize=(15,8))\n",
    "sns.distplot(data_nasa_ready['mass'],\n",
    "            kde=False,\n",
    "            color='r',\n",
    "            bins = 3);"
   ]
  },
  {
   "cell_type": "code",
   "execution_count": 88,
   "id": "5b2a37ae-d24c-4dc6-9a9d-1169eadc57f6",
   "metadata": {},
   "outputs": [
    {
     "name": "stderr",
     "output_type": "stream",
     "text": [
      "C:\\Users\\rafam\\anaconda3\\lib\\site-packages\\seaborn\\_decorators.py:36: FutureWarning: Pass the following variable as a keyword arg: x. From version 0.12, the only valid positional argument will be `data`, and passing other arguments without an explicit keyword will result in an error or misinterpretation.\n",
      "  warnings.warn(\n"
     ]
    },
    {
     "data": {
      "image/png": "[encoded data removed]",
      "text/plain": [
       "<Figure size 1440x360 with 1 Axes>"
      ]
     },
     "metadata": {
      "needs_background": "light"
     },
     "output_type": "display_data"
    }
   ],
   "source": [
    "plt.figure(figsize=(20,5))\n",
    "sns.boxplot(data_nasa_ready['mass'], color = 'red');"
   ]
  },
  {
   "cell_type": "code",
   "execution_count": 96,
   "id": "ab6e9ac2-e469-4dc0-ab5d-311f86df2d1d",
   "metadata": {},
   "outputs": [
    {
     "name": "stderr",
     "output_type": "stream",
     "text": [
      "C:\\Users\\rafam\\anaconda3\\lib\\site-packages\\seaborn\\_decorators.py:36: FutureWarning: Pass the following variable as a keyword arg: x. From version 0.12, the only valid positional argument will be `data`, and passing other arguments without an explicit keyword will result in an error or misinterpretation.\n",
      "  warnings.warn(\n"
     ]
    },
    {
     "ename": "NameError",
     "evalue": "name 'titanic_df' is not defined",
     "output_type": "error",
     "traceback": [
      "\u001b[1;31m---------------------------------------------------------------------------\u001b[0m",
      "\u001b[1;31mNameError\u001b[0m                                 Traceback (most recent call last)",
      "\u001b[1;32m<ipython-input-96-aa36b624f9cf>\u001b[0m in \u001b[0;36m<module>\u001b[1;34m\u001b[0m\n\u001b[0;32m      1\u001b[0m \u001b[0mplt\u001b[0m\u001b[1;33m.\u001b[0m\u001b[0mfigure\u001b[0m\u001b[1;33m(\u001b[0m\u001b[0mfigsize\u001b[0m\u001b[1;33m=\u001b[0m\u001b[1;33m(\u001b[0m\u001b[1;36m20\u001b[0m\u001b[1;33m,\u001b[0m\u001b[1;36m5\u001b[0m\u001b[1;33m)\u001b[0m\u001b[1;33m)\u001b[0m\u001b[1;33m\u001b[0m\u001b[1;33m\u001b[0m\u001b[0m\n\u001b[0;32m      2\u001b[0m \u001b[0msns\u001b[0m\u001b[1;33m.\u001b[0m\u001b[0mviolinplot\u001b[0m\u001b[1;33m(\u001b[0m\u001b[0mdata_nasa_ready\u001b[0m\u001b[1;33m[\u001b[0m\u001b[1;34m'mass'\u001b[0m\u001b[1;33m]\u001b[0m\u001b[1;33m,\u001b[0m \u001b[0mcolor\u001b[0m\u001b[1;33m=\u001b[0m\u001b[1;34m'pink'\u001b[0m\u001b[1;33m)\u001b[0m\u001b[1;33m\u001b[0m\u001b[1;33m\u001b[0m\u001b[0m\n\u001b[1;32m----> 3\u001b[1;33m \u001b[0msns\u001b[0m\u001b[1;33m.\u001b[0m\u001b[0mboxenplot\u001b[0m\u001b[1;33m(\u001b[0m\u001b[0mtitanic_df\u001b[0m\u001b[1;33m[\u001b[0m\u001b[1;34m\"Fare\"\u001b[0m\u001b[1;33m]\u001b[0m\u001b[1;33m,\u001b[0m \u001b[0mwidth\u001b[0m \u001b[1;33m=\u001b[0m \u001b[1;36m.1\u001b[0m\u001b[1;33m)\u001b[0m\u001b[1;33m;\u001b[0m\u001b[1;33m\u001b[0m\u001b[1;33m\u001b[0m\u001b[0m\n\u001b[0m",
      "\u001b[1;31mNameError\u001b[0m: name 'titanic_df' is not defined"
     ]
    },
    {
     "data": {
      "image/png": "[encoded data removed]",
      "text/plain": [
       "<Figure size 1440x360 with 1 Axes>"
      ]
     },
     "metadata": {
      "needs_background": "light"
     },
     "output_type": "display_data"
    }
   ],
   "source": [
    "plt.figure(figsize=(20,5))\n",
    "sns.violinplot(data_nasa_ready['mass'], color='pink')\n",
    "sns.boxenplot(titanic_df[\"Fare\"], width = .1);"
   ]
  },
  {
   "cell_type": "code",
   "execution_count": 102,
   "id": "40874199-19af-4ab7-a873-60b21b3d2838",
   "metadata": {},
   "outputs": [
    {
     "data": {
      "text/plain": [
       "'\\nNo sé por qué no me aparecen todas las columnas,\\npero no me importa demasiado porque no voy a \\nutilizarla tampoco.\\n'"
      ]
     },
     "execution_count": 102,
     "metadata": {},
     "output_type": "execute_result"
    },
    {
     "data": {
      "image/png": "[encoded data removed]",
      "text/plain": [
       "<Figure size 1008x1008 with 2 Axes>"
      ]
     },
     "metadata": {
      "needs_background": "light"
     },
     "output_type": "display_data"
    }
   ],
   "source": [
    "# Ahora sacaré un mapa de calor.\n",
    "\n",
    "plt.figure(figsize=(14,14))\n",
    "sns.heatmap(data_nasa_ready.corr(),\n",
    "           vmin = -1,\n",
    "           vmax = 1,\n",
    "           cmap = sns.diverging_palette(145, 280, s=85, l=25, n=7),\n",
    "           annot = True,\n",
    "           square = True,\n",
    "           linewidths = .5);\n",
    "\n",
    "\"\"\"\n",
    "No sé por qué no me aparecen todas las columnas,\n",
    "pero no me importa demasiado porque no voy a \n",
    "utilizarla tampoco.\n",
    "\"\"\""
   ]
  }
 ],
 "metadata": {
  "kernelspec": {
   "display_name": "Python 3",
   "language": "python",
   "name": "python3"
  },
  "language_info": {
   "codemirror_mode": {
    "name": "ipython",
    "version": 3
   },
   "file_extension": ".py",
   "mimetype": "text/x-python",
   "name": "python",
   "nbconvert_exporter": "python",
   "pygments_lexer": "ipython3",
   "version": "3.8.8"
  }
 },
 "nbformat": 4,
 "nbformat_minor": 5
}

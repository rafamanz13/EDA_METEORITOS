{
 "cells": [
  {
   "cell_type": "markdown",
   "id": "eef49ab3-f687-4176-bbb1-ff297d36a4b7",
   "metadata": {},
   "source": [
    "# PRUEBA CON ALGUNOS DATASETS."
   ]
  },
  {
   "cell_type": "markdown",
   "id": "1afe9026-40c4-4d60-9216-f25b75fe059d",
   "metadata": {},
   "source": [
    "## IMPORTACIÓN."
   ]
  },
  {
   "cell_type": "code",
   "execution_count": 5,
   "id": "d4e1b6f2-5651-4495-8f77-db9e7d442a55",
   "metadata": {},
   "outputs": [],
   "source": [
    "# Importamos las librerías necesarias.\n",
    "\n",
    "import numpy as np\n",
    "import pandas as pd\n",
    "import seaborn as sns\n",
    "from scipy import stats\n",
    "import matplotlib.pyplot as plt"
   ]
  },
  {
   "cell_type": "markdown",
   "id": "0443aa7c-f92a-447d-bb51-675e2b42188b",
   "metadata": {},
   "source": [
    "## CARGA DE DATOS."
   ]
  },
  {
   "cell_type": "markdown",
   "id": "34faa83f-000a-4031-b448-ae3ffb137f4d",
   "metadata": {},
   "source": [
    "### Dataset: NASA."
   ]
  },
  {
   "cell_type": "code",
   "execution_count": 10,
   "id": "c0bbed58-17a7-4bc4-95c0-8f4708cb2643",
   "metadata": {},
   "outputs": [
    {
     "data": {
      "text/html": [
       "<div>\n",
       "<style scoped>\n",
       "    .dataframe tbody tr th:only-of-type {\n",
       "        vertical-align: middle;\n",
       "    }\n",
       "\n",
       "    .dataframe tbody tr th {\n",
       "        vertical-align: top;\n",
       "    }\n",
       "\n",
       "    .dataframe thead th {\n",
       "        text-align: right;\n",
       "    }\n",
       "</style>\n",
       "<table border=\"1\" class=\"dataframe\">\n",
       "  <thead>\n",
       "    <tr style=\"text-align: right;\">\n",
       "      <th></th>\n",
       "      <th>name</th>\n",
       "      <th>id</th>\n",
       "      <th>nametype</th>\n",
       "      <th>recclass</th>\n",
       "      <th>mass</th>\n",
       "      <th>fall</th>\n",
       "      <th>year</th>\n",
       "      <th>reclat</th>\n",
       "      <th>reclong</th>\n",
       "      <th>GeoLocation</th>\n",
       "    </tr>\n",
       "  </thead>\n",
       "  <tbody>\n",
       "    <tr>\n",
       "      <th>0</th>\n",
       "      <td>Aachen</td>\n",
       "      <td>1</td>\n",
       "      <td>Valid</td>\n",
       "      <td>L5</td>\n",
       "      <td>21.0</td>\n",
       "      <td>Fell</td>\n",
       "      <td>1880.0</td>\n",
       "      <td>50.77500</td>\n",
       "      <td>6.08333</td>\n",
       "      <td>(50.775000, 6.083330)</td>\n",
       "    </tr>\n",
       "    <tr>\n",
       "      <th>1</th>\n",
       "      <td>Aarhus</td>\n",
       "      <td>2</td>\n",
       "      <td>Valid</td>\n",
       "      <td>H6</td>\n",
       "      <td>720.0</td>\n",
       "      <td>Fell</td>\n",
       "      <td>1951.0</td>\n",
       "      <td>56.18333</td>\n",
       "      <td>10.23333</td>\n",
       "      <td>(56.183330, 10.233330)</td>\n",
       "    </tr>\n",
       "    <tr>\n",
       "      <th>2</th>\n",
       "      <td>Abee</td>\n",
       "      <td>6</td>\n",
       "      <td>Valid</td>\n",
       "      <td>EH4</td>\n",
       "      <td>107000.0</td>\n",
       "      <td>Fell</td>\n",
       "      <td>1952.0</td>\n",
       "      <td>54.21667</td>\n",
       "      <td>-113.00000</td>\n",
       "      <td>(54.216670, -113.000000)</td>\n",
       "    </tr>\n",
       "    <tr>\n",
       "      <th>3</th>\n",
       "      <td>Acapulco</td>\n",
       "      <td>10</td>\n",
       "      <td>Valid</td>\n",
       "      <td>Acapulcoite</td>\n",
       "      <td>1914.0</td>\n",
       "      <td>Fell</td>\n",
       "      <td>1976.0</td>\n",
       "      <td>16.88333</td>\n",
       "      <td>-99.90000</td>\n",
       "      <td>(16.883330, -99.900000)</td>\n",
       "    </tr>\n",
       "    <tr>\n",
       "      <th>4</th>\n",
       "      <td>Achiras</td>\n",
       "      <td>370</td>\n",
       "      <td>Valid</td>\n",
       "      <td>L6</td>\n",
       "      <td>780.0</td>\n",
       "      <td>Fell</td>\n",
       "      <td>1902.0</td>\n",
       "      <td>-33.16667</td>\n",
       "      <td>-64.95000</td>\n",
       "      <td>(-33.166670, -64.950000)</td>\n",
       "    </tr>\n",
       "  </tbody>\n",
       "</table>\n",
       "</div>"
      ],
      "text/plain": [
       "       name   id nametype     recclass      mass  fall    year    reclat  \\\n",
       "0    Aachen    1    Valid           L5      21.0  Fell  1880.0  50.77500   \n",
       "1    Aarhus    2    Valid           H6     720.0  Fell  1951.0  56.18333   \n",
       "2      Abee    6    Valid          EH4  107000.0  Fell  1952.0  54.21667   \n",
       "3  Acapulco   10    Valid  Acapulcoite    1914.0  Fell  1976.0  16.88333   \n",
       "4   Achiras  370    Valid           L6     780.0  Fell  1902.0 -33.16667   \n",
       "\n",
       "     reclong               GeoLocation  \n",
       "0    6.08333     (50.775000, 6.083330)  \n",
       "1   10.23333    (56.183330, 10.233330)  \n",
       "2 -113.00000  (54.216670, -113.000000)  \n",
       "3  -99.90000   (16.883330, -99.900000)  \n",
       "4  -64.95000  (-33.166670, -64.950000)  "
      ]
     },
     "execution_count": 10,
     "metadata": {},
     "output_type": "execute_result"
    }
   ],
   "source": [
    "# Importo el dataset.\n",
    "\n",
    "data_nasa = pd.read_csv('./data/dataset_nasa.csv')\n",
    "\n",
    "# Muestro las 5 primeras columnas y un shape para verificar que se ha cargado correctamente.\n",
    "\n",
    "data_nasa.head()"
   ]
  },
  {
   "cell_type": "code",
   "execution_count": 11,
   "id": "0cd07ad6-f781-43cb-b8e7-1df053800230",
   "metadata": {},
   "outputs": [
    {
     "data": {
      "text/plain": [
       "(45716, 10)"
      ]
     },
     "execution_count": 11,
     "metadata": {},
     "output_type": "execute_result"
    }
   ],
   "source": [
    "data_nasa.shape"
   ]
  },
  {
   "cell_type": "markdown",
   "id": "63877949-34bf-41b0-b773-9fe680bf43c9",
   "metadata": {},
   "source": [
    "### Dataset: The Meteoritical Society."
   ]
  },
  {
   "cell_type": "code",
   "execution_count": 12,
   "id": "9b659a31-6d60-455c-998e-f9d9b2851e37",
   "metadata": {},
   "outputs": [
    {
     "data": {
      "text/html": [
       "<div>\n",
       "<style scoped>\n",
       "    .dataframe tbody tr th:only-of-type {\n",
       "        vertical-align: middle;\n",
       "    }\n",
       "\n",
       "    .dataframe tbody tr th {\n",
       "        vertical-align: top;\n",
       "    }\n",
       "\n",
       "    .dataframe thead th {\n",
       "        text-align: right;\n",
       "    }\n",
       "</style>\n",
       "<table border=\"1\" class=\"dataframe\">\n",
       "  <thead>\n",
       "    <tr style=\"text-align: right;\">\n",
       "      <th></th>\n",
       "      <th>name</th>\n",
       "      <th>id</th>\n",
       "      <th>type</th>\n",
       "      <th>recclass</th>\n",
       "      <th>mass</th>\n",
       "      <th>fall</th>\n",
       "      <th>year</th>\n",
       "      <th>lat</th>\n",
       "      <th>long</th>\n",
       "    </tr>\n",
       "  </thead>\n",
       "  <tbody>\n",
       "    <tr>\n",
       "      <th>0</th>\n",
       "      <td>Aachen</td>\n",
       "      <td>1</td>\n",
       "      <td>Valid</td>\n",
       "      <td>L5</td>\n",
       "      <td>21.0</td>\n",
       "      <td>Fell</td>\n",
       "      <td>1880</td>\n",
       "      <td>50.77500</td>\n",
       "      <td>6.08333</td>\n",
       "    </tr>\n",
       "    <tr>\n",
       "      <th>1</th>\n",
       "      <td>Aarhus</td>\n",
       "      <td>2</td>\n",
       "      <td>Valid</td>\n",
       "      <td>H6</td>\n",
       "      <td>720.0</td>\n",
       "      <td>Fell</td>\n",
       "      <td>1951</td>\n",
       "      <td>56.18333</td>\n",
       "      <td>10.23333</td>\n",
       "    </tr>\n",
       "    <tr>\n",
       "      <th>2</th>\n",
       "      <td>Abee</td>\n",
       "      <td>6</td>\n",
       "      <td>Valid</td>\n",
       "      <td>EH4</td>\n",
       "      <td>107000.0</td>\n",
       "      <td>Fell</td>\n",
       "      <td>1952</td>\n",
       "      <td>54.21667</td>\n",
       "      <td>-113.00000</td>\n",
       "    </tr>\n",
       "    <tr>\n",
       "      <th>3</th>\n",
       "      <td>Acapulco</td>\n",
       "      <td>10</td>\n",
       "      <td>Valid</td>\n",
       "      <td>Acapulcoite</td>\n",
       "      <td>1914.0</td>\n",
       "      <td>Fell</td>\n",
       "      <td>1976</td>\n",
       "      <td>16.88333</td>\n",
       "      <td>-99.90000</td>\n",
       "    </tr>\n",
       "    <tr>\n",
       "      <th>4</th>\n",
       "      <td>Achiras</td>\n",
       "      <td>370</td>\n",
       "      <td>Valid</td>\n",
       "      <td>L6</td>\n",
       "      <td>780.0</td>\n",
       "      <td>Fell</td>\n",
       "      <td>2002</td>\n",
       "      <td>-33.16667</td>\n",
       "      <td>-64.95000</td>\n",
       "    </tr>\n",
       "  </tbody>\n",
       "</table>\n",
       "</div>"
      ],
      "text/plain": [
       "       name   id   type     recclass      mass  fall  year       lat  \\\n",
       "0    Aachen    1  Valid           L5      21.0  Fell  1880  50.77500   \n",
       "1    Aarhus    2  Valid           H6     720.0  Fell  1951  56.18333   \n",
       "2      Abee    6  Valid          EH4  107000.0  Fell  1952  54.21667   \n",
       "3  Acapulco   10  Valid  Acapulcoite    1914.0  Fell  1976  16.88333   \n",
       "4   Achiras  370  Valid           L6     780.0  Fell  2002 -33.16667   \n",
       "\n",
       "        long  \n",
       "0    6.08333  \n",
       "1   10.23333  \n",
       "2 -113.00000  \n",
       "3  -99.90000  \n",
       "4  -64.95000  "
      ]
     },
     "execution_count": 12,
     "metadata": {},
     "output_type": "execute_result"
    }
   ],
   "source": [
    "# Importo el dataset.\n",
    "\n",
    "data_tms = pd.read_csv('./data/dataset_meteoritical_society.csv')\n",
    "\n",
    "# Muestro las 5 primeras columnas y un shape para verificar que se ha cargado correctamente.\n",
    "\n",
    "data_tms.head()"
   ]
  },
  {
   "cell_type": "code",
   "execution_count": 13,
   "id": "f786e426-6239-417b-8f36-db0c366f9818",
   "metadata": {},
   "outputs": [
    {
     "data": {
      "text/plain": [
       "(31723, 9)"
      ]
     },
     "execution_count": 13,
     "metadata": {},
     "output_type": "execute_result"
    }
   ],
   "source": [
    "data_tms.shape"
   ]
  },
  {
   "cell_type": "markdown",
   "id": "04dbdff1-7c8e-4fe4-9fc1-fbd5924cf9a8",
   "metadata": {},
   "source": [
    "### Dataset: International Meteor Organization."
   ]
  },
  {
   "cell_type": "code",
   "execution_count": 17,
   "id": "6aeec331-d69b-4b22-be1d-7c8eb9aed70c",
   "metadata": {},
   "outputs": [
    {
     "data": {
      "text/html": [
       "<div>\n",
       "<style scoped>\n",
       "    .dataframe tbody tr th:only-of-type {\n",
       "        vertical-align: middle;\n",
       "    }\n",
       "\n",
       "    .dataframe tbody tr th {\n",
       "        vertical-align: top;\n",
       "    }\n",
       "\n",
       "    .dataframe thead th {\n",
       "        text-align: right;\n",
       "    }\n",
       "</style>\n",
       "<table border=\"1\" class=\"dataframe\">\n",
       "  <thead>\n",
       "    <tr style=\"text-align: right;\">\n",
       "      <th></th>\n",
       "      <th>Session ID</th>\n",
       "      <th>Start Date</th>\n",
       "      <th>Observer ID</th>\n",
       "      <th>Submitter ID</th>\n",
       "      <th>Actual Observer Name</th>\n",
       "      <th>Submitted by</th>\n",
       "      <th>City</th>\n",
       "      <th>Country</th>\n",
       "      <th>Latitude</th>\n",
       "      <th>Longitude</th>\n",
       "      <th>Elevation</th>\n",
       "    </tr>\n",
       "  </thead>\n",
       "  <tbody>\n",
       "    <tr>\n",
       "      <th>0</th>\n",
       "      <td>162</td>\n",
       "      <td>2008-12-19 09:08:00</td>\n",
       "      <td>283.0</td>\n",
       "      <td>283</td>\n",
       "      <td>Salvador Aguirre</td>\n",
       "      <td>Salvador Aguirre</td>\n",
       "      <td>Ej. El Carmen, Sonor</td>\n",
       "      <td>Mexico</td>\n",
       "      <td>29.319444</td>\n",
       "      <td>-110.822778</td>\n",
       "      <td>0.0</td>\n",
       "    </tr>\n",
       "    <tr>\n",
       "      <th>1</th>\n",
       "      <td>163</td>\n",
       "      <td>2008-12-22 05:20:00</td>\n",
       "      <td>283.0</td>\n",
       "      <td>283</td>\n",
       "      <td>Salvador Aguirre</td>\n",
       "      <td>Salvador Aguirre</td>\n",
       "      <td>Ej. El Carmen, Sonor</td>\n",
       "      <td>Mexico</td>\n",
       "      <td>29.319444</td>\n",
       "      <td>-110.822778</td>\n",
       "      <td>0.0</td>\n",
       "    </tr>\n",
       "    <tr>\n",
       "      <th>2</th>\n",
       "      <td>164</td>\n",
       "      <td>2008-12-31 10:47:00</td>\n",
       "      <td>283.0</td>\n",
       "      <td>283</td>\n",
       "      <td>Salvador Aguirre</td>\n",
       "      <td>Salvador Aguirre</td>\n",
       "      <td>Ej. El Carmen, Sonor</td>\n",
       "      <td>Mexico</td>\n",
       "      <td>29.319444</td>\n",
       "      <td>-110.822778</td>\n",
       "      <td>0.0</td>\n",
       "    </tr>\n",
       "    <tr>\n",
       "      <th>3</th>\n",
       "      <td>311</td>\n",
       "      <td>2008-08-11 21:50:00</td>\n",
       "      <td>630.0</td>\n",
       "      <td>630</td>\n",
       "      <td>Reyhane Akhbari</td>\n",
       "      <td>Reyhane Akhbari</td>\n",
       "      <td>Hesar Sorkh</td>\n",
       "      <td>Iran</td>\n",
       "      <td>36.005556</td>\n",
       "      <td>58.321111</td>\n",
       "      <td>0.0</td>\n",
       "    </tr>\n",
       "    <tr>\n",
       "      <th>4</th>\n",
       "      <td>918</td>\n",
       "      <td>2008-08-11 23:00:00</td>\n",
       "      <td>710.0</td>\n",
       "      <td>710</td>\n",
       "      <td>Igor Arolovich</td>\n",
       "      <td>Igor Arolovich</td>\n",
       "      <td>Mount Tayasim</td>\n",
       "      <td>Israel</td>\n",
       "      <td>31.766667</td>\n",
       "      <td>35.083333</td>\n",
       "      <td>0.0</td>\n",
       "    </tr>\n",
       "  </tbody>\n",
       "</table>\n",
       "</div>"
      ],
      "text/plain": [
       "   Session ID           Start Date  Observer ID  Submitter ID  \\\n",
       "0         162  2008-12-19 09:08:00        283.0           283   \n",
       "1         163  2008-12-22 05:20:00        283.0           283   \n",
       "2         164  2008-12-31 10:47:00        283.0           283   \n",
       "3         311  2008-08-11 21:50:00        630.0           630   \n",
       "4         918  2008-08-11 23:00:00        710.0           710   \n",
       "\n",
       "  Actual Observer Name      Submitted by                  City Country  \\\n",
       "0     Salvador Aguirre  Salvador Aguirre  Ej. El Carmen, Sonor  Mexico   \n",
       "1     Salvador Aguirre  Salvador Aguirre  Ej. El Carmen, Sonor  Mexico   \n",
       "2     Salvador Aguirre  Salvador Aguirre  Ej. El Carmen, Sonor  Mexico   \n",
       "3      Reyhane Akhbari   Reyhane Akhbari           Hesar Sorkh    Iran   \n",
       "4       Igor Arolovich    Igor Arolovich         Mount Tayasim  Israel   \n",
       "\n",
       "    Latitude   Longitude  Elevation  \n",
       "0  29.319444 -110.822778        0.0  \n",
       "1  29.319444 -110.822778        0.0  \n",
       "2  29.319444 -110.822778        0.0  \n",
       "3  36.005556   58.321111        0.0  \n",
       "4  31.766667   35.083333        0.0  "
      ]
     },
     "execution_count": 17,
     "metadata": {},
     "output_type": "execute_result"
    }
   ],
   "source": [
    "# Importo el dataset.\n",
    "\n",
    "data_imo = pd.read_csv('./data/dataset_imo_1999_2020.csv')\n",
    "\n",
    "# Muestro las 5 primeras columnas y un shape para verificar que se ha cargado correctamente.\n",
    "\n",
    "data_imo.head()"
   ]
  },
  {
   "cell_type": "code",
   "execution_count": 18,
   "id": "9d7aa27e-dd75-4ecd-babd-d1d314cb6a40",
   "metadata": {},
   "outputs": [
    {
     "data": {
      "text/plain": [
       "(42989, 11)"
      ]
     },
     "execution_count": 18,
     "metadata": {},
     "output_type": "execute_result"
    }
   ],
   "source": [
    "data_imo.shape"
   ]
  },
  {
   "cell_type": "markdown",
   "id": "063ec1dd-56d5-4a9e-9daf-b63d6cd1304f",
   "metadata": {},
   "source": [
    "## COMBINACIÓN DE DATOS."
   ]
  },
  {
   "cell_type": "markdown",
   "id": "426d6818-9447-41c5-ae21-d00a357c706c",
   "metadata": {},
   "source": [
    "### Datasets: NASA & TMS."
   ]
  },
  {
   "cell_type": "code",
   "execution_count": 19,
   "id": "503ba47f-ebf7-46b8-adbf-719f6dec4dea",
   "metadata": {},
   "outputs": [
    {
     "data": {
      "text/html": [
       "<div>\n",
       "<style scoped>\n",
       "    .dataframe tbody tr th:only-of-type {\n",
       "        vertical-align: middle;\n",
       "    }\n",
       "\n",
       "    .dataframe tbody tr th {\n",
       "        vertical-align: top;\n",
       "    }\n",
       "\n",
       "    .dataframe thead th {\n",
       "        text-align: right;\n",
       "    }\n",
       "</style>\n",
       "<table border=\"1\" class=\"dataframe\">\n",
       "  <thead>\n",
       "    <tr style=\"text-align: right;\">\n",
       "      <th></th>\n",
       "      <th>name</th>\n",
       "      <th>id</th>\n",
       "      <th>type</th>\n",
       "      <th>recclass</th>\n",
       "      <th>mass</th>\n",
       "      <th>fall</th>\n",
       "      <th>year</th>\n",
       "      <th>lat</th>\n",
       "      <th>long</th>\n",
       "    </tr>\n",
       "  </thead>\n",
       "  <tbody>\n",
       "    <tr>\n",
       "      <th>37</th>\n",
       "      <td>Appley Bridge</td>\n",
       "      <td>2318</td>\n",
       "      <td>Valid</td>\n",
       "      <td>LL6</td>\n",
       "      <td>15000.0</td>\n",
       "      <td>Fell</td>\n",
       "      <td>2014</td>\n",
       "      <td>53.58333</td>\n",
       "      <td>-2.71667</td>\n",
       "    </tr>\n",
       "    <tr>\n",
       "      <th>77</th>\n",
       "      <td>Baxter</td>\n",
       "      <td>4977</td>\n",
       "      <td>Valid</td>\n",
       "      <td>L6</td>\n",
       "      <td>611.0</td>\n",
       "      <td>Fell</td>\n",
       "      <td>2016</td>\n",
       "      <td>36.75000</td>\n",
       "      <td>-93.50000</td>\n",
       "    </tr>\n",
       "    <tr>\n",
       "      <th>114</th>\n",
       "      <td>Boguslavka</td>\n",
       "      <td>5098</td>\n",
       "      <td>Valid</td>\n",
       "      <td>\"Iron IIAB\"</td>\n",
       "      <td>256000.0</td>\n",
       "      <td>Fell</td>\n",
       "      <td>2016</td>\n",
       "      <td>44.55000</td>\n",
       "      <td>131.63333</td>\n",
       "    </tr>\n",
       "    <tr>\n",
       "      <th>142</th>\n",
       "      <td>Calivo</td>\n",
       "      <td>5200</td>\n",
       "      <td>Valid</td>\n",
       "      <td>Stone-uncl</td>\n",
       "      <td>2400.0</td>\n",
       "      <td>Fell</td>\n",
       "      <td>2016</td>\n",
       "      <td>11.75000</td>\n",
       "      <td>122.33333</td>\n",
       "    </tr>\n",
       "    <tr>\n",
       "      <th>246</th>\n",
       "      <td>Ekh Khera</td>\n",
       "      <td>7777</td>\n",
       "      <td>Valid</td>\n",
       "      <td>H6</td>\n",
       "      <td>840.0</td>\n",
       "      <td>Fell</td>\n",
       "      <td>2016</td>\n",
       "      <td>28.26667</td>\n",
       "      <td>78.78333</td>\n",
       "    </tr>\n",
       "  </tbody>\n",
       "</table>\n",
       "</div>"
      ],
      "text/plain": [
       "              name    id   type     recclass      mass  fall  year       lat  \\\n",
       "37   Appley Bridge  2318  Valid          LL6   15000.0  Fell  2014  53.58333   \n",
       "77          Baxter  4977  Valid           L6     611.0  Fell  2016  36.75000   \n",
       "114     Boguslavka  5098  Valid  \"Iron IIAB\"  256000.0  Fell  2016  44.55000   \n",
       "142         Calivo  5200  Valid   Stone-uncl    2400.0  Fell  2016  11.75000   \n",
       "246      Ekh Khera  7777  Valid           H6     840.0  Fell  2016  28.26667   \n",
       "\n",
       "          long  \n",
       "37    -2.71667  \n",
       "77   -93.50000  \n",
       "114  131.63333  \n",
       "142  122.33333  \n",
       "246   78.78333  "
      ]
     },
     "execution_count": 19,
     "metadata": {},
     "output_type": "execute_result"
    }
   ],
   "source": [
    "\"\"\"\n",
    "Puesto que el dataset de la NASA solo \n",
    "incluye registros hasta 2013, y el dataset \n",
    "de TMS incluye registros posteriores (siendo\n",
    "duplicados los de 2013 hacia atrás), voy a unir\n",
    "este segundo dataset al de la NASA para tener\n",
    "más datos disponibles.\n",
    "\"\"\"\n",
    "\n",
    "# Hago una copia para no alterar el dataset original.\n",
    "\n",
    "data_tms_2 = data_tms.copy()\n",
    "\n",
    "# Le aplico una máscara para seleccionar solo aquellos valores posteriores a 2013.\n",
    "\n",
    "mask = data_tms_2['year'] > 2013\n",
    "data_tms_filtrado = data_tms_2[mask]\n",
    "data_tms_filtrado.head()"
   ]
  },
  {
   "cell_type": "code",
   "execution_count": 20,
   "id": "6a61263a-cdfd-49ae-a8e8-254a24d77a7c",
   "metadata": {},
   "outputs": [
    {
     "data": {
      "text/html": [
       "<div>\n",
       "<style scoped>\n",
       "    .dataframe tbody tr th:only-of-type {\n",
       "        vertical-align: middle;\n",
       "    }\n",
       "\n",
       "    .dataframe tbody tr th {\n",
       "        vertical-align: top;\n",
       "    }\n",
       "\n",
       "    .dataframe thead th {\n",
       "        text-align: right;\n",
       "    }\n",
       "</style>\n",
       "<table border=\"1\" class=\"dataframe\">\n",
       "  <thead>\n",
       "    <tr style=\"text-align: right;\">\n",
       "      <th></th>\n",
       "      <th>name</th>\n",
       "      <th>id</th>\n",
       "      <th>type</th>\n",
       "      <th>recclass</th>\n",
       "      <th>mass</th>\n",
       "      <th>fall</th>\n",
       "      <th>year</th>\n",
       "      <th>lat</th>\n",
       "      <th>long</th>\n",
       "      <th>GeoLocation</th>\n",
       "    </tr>\n",
       "  </thead>\n",
       "  <tbody>\n",
       "    <tr>\n",
       "      <th>0</th>\n",
       "      <td>Aachen</td>\n",
       "      <td>1</td>\n",
       "      <td>Valid</td>\n",
       "      <td>L5</td>\n",
       "      <td>21.0</td>\n",
       "      <td>Fell</td>\n",
       "      <td>1880.0</td>\n",
       "      <td>50.77500</td>\n",
       "      <td>6.08333</td>\n",
       "      <td>(50.775000, 6.083330)</td>\n",
       "    </tr>\n",
       "    <tr>\n",
       "      <th>1</th>\n",
       "      <td>Aarhus</td>\n",
       "      <td>2</td>\n",
       "      <td>Valid</td>\n",
       "      <td>H6</td>\n",
       "      <td>720.0</td>\n",
       "      <td>Fell</td>\n",
       "      <td>1951.0</td>\n",
       "      <td>56.18333</td>\n",
       "      <td>10.23333</td>\n",
       "      <td>(56.183330, 10.233330)</td>\n",
       "    </tr>\n",
       "    <tr>\n",
       "      <th>2</th>\n",
       "      <td>Abee</td>\n",
       "      <td>6</td>\n",
       "      <td>Valid</td>\n",
       "      <td>EH4</td>\n",
       "      <td>107000.0</td>\n",
       "      <td>Fell</td>\n",
       "      <td>1952.0</td>\n",
       "      <td>54.21667</td>\n",
       "      <td>-113.00000</td>\n",
       "      <td>(54.216670, -113.000000)</td>\n",
       "    </tr>\n",
       "    <tr>\n",
       "      <th>3</th>\n",
       "      <td>Acapulco</td>\n",
       "      <td>10</td>\n",
       "      <td>Valid</td>\n",
       "      <td>Acapulcoite</td>\n",
       "      <td>1914.0</td>\n",
       "      <td>Fell</td>\n",
       "      <td>1976.0</td>\n",
       "      <td>16.88333</td>\n",
       "      <td>-99.90000</td>\n",
       "      <td>(16.883330, -99.900000)</td>\n",
       "    </tr>\n",
       "    <tr>\n",
       "      <th>4</th>\n",
       "      <td>Achiras</td>\n",
       "      <td>370</td>\n",
       "      <td>Valid</td>\n",
       "      <td>L6</td>\n",
       "      <td>780.0</td>\n",
       "      <td>Fell</td>\n",
       "      <td>1902.0</td>\n",
       "      <td>-33.16667</td>\n",
       "      <td>-64.95000</td>\n",
       "      <td>(-33.166670, -64.950000)</td>\n",
       "    </tr>\n",
       "  </tbody>\n",
       "</table>\n",
       "</div>"
      ],
      "text/plain": [
       "       name   id   type     recclass      mass  fall    year       lat  \\\n",
       "0    Aachen    1  Valid           L5      21.0  Fell  1880.0  50.77500   \n",
       "1    Aarhus    2  Valid           H6     720.0  Fell  1951.0  56.18333   \n",
       "2      Abee    6  Valid          EH4  107000.0  Fell  1952.0  54.21667   \n",
       "3  Acapulco   10  Valid  Acapulcoite    1914.0  Fell  1976.0  16.88333   \n",
       "4   Achiras  370  Valid           L6     780.0  Fell  1902.0 -33.16667   \n",
       "\n",
       "        long               GeoLocation  \n",
       "0    6.08333     (50.775000, 6.083330)  \n",
       "1   10.23333    (56.183330, 10.233330)  \n",
       "2 -113.00000  (54.216670, -113.000000)  \n",
       "3  -99.90000   (16.883330, -99.900000)  \n",
       "4  -64.95000  (-33.166670, -64.950000)  "
      ]
     },
     "execution_count": 20,
     "metadata": {},
     "output_type": "execute_result"
    }
   ],
   "source": [
    "# Ahora renombraré las columnas del dataset de la NASA para que coincidan con el de TMS.\n",
    "\n",
    "data_nasa_2 = data_nasa.copy()\n",
    "data_nasa_2 = data_nasa_2.rename(columns = {'reclat':'lat', 'reclong':'long', 'nametype':'type', 'mass (g)':'mass'})\n",
    "data_nasa_2.head()"
   ]
  },
  {
   "cell_type": "code",
   "execution_count": 21,
   "id": "149dd37c-4f4a-49c9-b1a6-c6569583a936",
   "metadata": {},
   "outputs": [
    {
     "data": {
      "text/html": [
       "<div>\n",
       "<style scoped>\n",
       "    .dataframe tbody tr th:only-of-type {\n",
       "        vertical-align: middle;\n",
       "    }\n",
       "\n",
       "    .dataframe tbody tr th {\n",
       "        vertical-align: top;\n",
       "    }\n",
       "\n",
       "    .dataframe thead th {\n",
       "        text-align: right;\n",
       "    }\n",
       "</style>\n",
       "<table border=\"1\" class=\"dataframe\">\n",
       "  <thead>\n",
       "    <tr style=\"text-align: right;\">\n",
       "      <th></th>\n",
       "      <th>name</th>\n",
       "      <th>id</th>\n",
       "      <th>type</th>\n",
       "      <th>recclass</th>\n",
       "      <th>mass</th>\n",
       "      <th>fall</th>\n",
       "      <th>year</th>\n",
       "      <th>lat</th>\n",
       "      <th>long</th>\n",
       "      <th>GeoLocation</th>\n",
       "    </tr>\n",
       "  </thead>\n",
       "  <tbody>\n",
       "    <tr>\n",
       "      <th>0</th>\n",
       "      <td>Aachen</td>\n",
       "      <td>1</td>\n",
       "      <td>Valid</td>\n",
       "      <td>L5</td>\n",
       "      <td>21.0</td>\n",
       "      <td>Fell</td>\n",
       "      <td>1880.0</td>\n",
       "      <td>50.77500</td>\n",
       "      <td>6.08333</td>\n",
       "      <td>(50.775000, 6.083330)</td>\n",
       "    </tr>\n",
       "    <tr>\n",
       "      <th>1</th>\n",
       "      <td>Aarhus</td>\n",
       "      <td>2</td>\n",
       "      <td>Valid</td>\n",
       "      <td>H6</td>\n",
       "      <td>720.0</td>\n",
       "      <td>Fell</td>\n",
       "      <td>1951.0</td>\n",
       "      <td>56.18333</td>\n",
       "      <td>10.23333</td>\n",
       "      <td>(56.183330, 10.233330)</td>\n",
       "    </tr>\n",
       "    <tr>\n",
       "      <th>2</th>\n",
       "      <td>Abee</td>\n",
       "      <td>6</td>\n",
       "      <td>Valid</td>\n",
       "      <td>EH4</td>\n",
       "      <td>107000.0</td>\n",
       "      <td>Fell</td>\n",
       "      <td>1952.0</td>\n",
       "      <td>54.21667</td>\n",
       "      <td>-113.00000</td>\n",
       "      <td>(54.216670, -113.000000)</td>\n",
       "    </tr>\n",
       "    <tr>\n",
       "      <th>3</th>\n",
       "      <td>Acapulco</td>\n",
       "      <td>10</td>\n",
       "      <td>Valid</td>\n",
       "      <td>Acapulcoite</td>\n",
       "      <td>1914.0</td>\n",
       "      <td>Fell</td>\n",
       "      <td>1976.0</td>\n",
       "      <td>16.88333</td>\n",
       "      <td>-99.90000</td>\n",
       "      <td>(16.883330, -99.900000)</td>\n",
       "    </tr>\n",
       "    <tr>\n",
       "      <th>4</th>\n",
       "      <td>Achiras</td>\n",
       "      <td>370</td>\n",
       "      <td>Valid</td>\n",
       "      <td>L6</td>\n",
       "      <td>780.0</td>\n",
       "      <td>Fell</td>\n",
       "      <td>1902.0</td>\n",
       "      <td>-33.16667</td>\n",
       "      <td>-64.95000</td>\n",
       "      <td>(-33.166670, -64.950000)</td>\n",
       "    </tr>\n",
       "  </tbody>\n",
       "</table>\n",
       "</div>"
      ],
      "text/plain": [
       "       name   id   type     recclass      mass  fall    year       lat  \\\n",
       "0    Aachen    1  Valid           L5      21.0  Fell  1880.0  50.77500   \n",
       "1    Aarhus    2  Valid           H6     720.0  Fell  1951.0  56.18333   \n",
       "2      Abee    6  Valid          EH4  107000.0  Fell  1952.0  54.21667   \n",
       "3  Acapulco   10  Valid  Acapulcoite    1914.0  Fell  1976.0  16.88333   \n",
       "4   Achiras  370  Valid           L6     780.0  Fell  1902.0 -33.16667   \n",
       "\n",
       "        long               GeoLocation  \n",
       "0    6.08333     (50.775000, 6.083330)  \n",
       "1   10.23333    (56.183330, 10.233330)  \n",
       "2 -113.00000  (54.216670, -113.000000)  \n",
       "3  -99.90000   (16.883330, -99.900000)  \n",
       "4  -64.95000  (-33.166670, -64.950000)  "
      ]
     },
     "execution_count": 21,
     "metadata": {},
     "output_type": "execute_result"
    }
   ],
   "source": [
    "# Por último procedo unir ambos datasets de forma vertical, asumiendo que tendré NaN's en \n",
    "# la columna 'GeoLocation', pero no le prestaré atención ya que luego la voy a eliminar.\n",
    "\n",
    "data_meteor = pd.concat([data_nasa_2, data_tms_filtrado], axis = 0)\n",
    "\n",
    "# Muestro las 5 primeras columnas y un shape para verificar que se ha cargado correctamente.\n",
    "\n",
    "data_meteor.head()"
   ]
  },
  {
   "cell_type": "code",
   "execution_count": 22,
   "id": "3bb06c26-7d06-4987-9c4e-f5200fd4da93",
   "metadata": {},
   "outputs": [
    {
     "data": {
      "text/plain": [
       "(45766, 10)"
      ]
     },
     "execution_count": 22,
     "metadata": {},
     "output_type": "execute_result"
    }
   ],
   "source": [
    "data_meteor.shape"
   ]
  },
  {
   "cell_type": "code",
   "execution_count": 23,
   "id": "8fa699af-5d35-4497-8bd2-9d5df20c138c",
   "metadata": {},
   "outputs": [],
   "source": [
    "\"\"\"\n",
    "Me interesa guardar este dataframe como un dataset independiente en caso\n",
    "de que finalmente solo haga un análisis relativo a los meteoritos en\n",
    "exclusiva, dejando a otro lado el análisis de las obvervaciones.\n",
    "Para ello lo guardaré en otra variable y eliminaré la columna 'Geolocation'\n",
    "(cosa que haré más tarde), para importarlo a un '.csv' y usarlo así\n",
    "si fuera necesario.\n",
    "\"\"\"\n",
    "\n",
    "# Realizo una copia en otra variable.\n",
    "\n",
    "data_meteor_ind = data_meteor.copy()\n",
    "data_meteor_ind = data_meteor_ind.drop(['GeoLocation'], axis = 1)"
   ]
  },
  {
   "cell_type": "code",
   "execution_count": 24,
   "id": "5771a639-db2e-4674-a372-da5f37b9a81b",
   "metadata": {},
   "outputs": [
    {
     "data": {
      "text/plain": [
       "name           0\n",
       "id             0\n",
       "type           0\n",
       "recclass       0\n",
       "mass         131\n",
       "fall           0\n",
       "year         288\n",
       "lat         7315\n",
       "long        7315\n",
       "dtype: int64"
      ]
     },
     "execution_count": 24,
     "metadata": {},
     "output_type": "execute_result"
    }
   ],
   "source": [
    "\"\"\"\n",
    "Como quiero guardarme este dataset antes de unirlo al del IMO, voy a\n",
    "realizarle una limpieza de datos previa.\n",
    "\"\"\"\n",
    "\n",
    "# Comprueba si hay valores NaN's en el dataset.\n",
    "\n",
    "data_meteor_ind.isnull().sum()"
   ]
  },
  {
   "cell_type": "code",
   "execution_count": 25,
   "id": "7751fda6-f08c-4bac-a1a4-a8a75f327716",
   "metadata": {},
   "outputs": [],
   "source": [
    "# Ya lo tengo listo para guardarlo en un '.csv' independiente.\n",
    "\n",
    "data_meteor_ind.to_csv('./data/dataset_meteor.csv', index = False)"
   ]
  },
  {
   "cell_type": "markdown",
   "id": "1c4124b6-dabb-4e10-9fc6-51bf6513c0e5",
   "metadata": {},
   "source": [
    "### Datasets: Meteor(combinado de NASA y TMS) & IMO. "
   ]
  },
  {
   "cell_type": "code",
   "execution_count": 26,
   "id": "a063c8d2-2ace-46ab-8eb8-d8e35cacf5e9",
   "metadata": {},
   "outputs": [
    {
     "name": "stdout",
     "output_type": "stream",
     "text": [
      "<bound method NDFrame.head of                   name     id   type     recclass      mass  fall    year  \\\n",
      "METEOR 0        Aachen    1.0  Valid           L5      21.0  Fell  1880.0   \n",
      "       1        Aarhus    2.0  Valid           H6     720.0  Fell  1951.0   \n",
      "       2          Abee    6.0  Valid          EH4  107000.0  Fell  1952.0   \n",
      "       3      Acapulco   10.0  Valid  Acapulcoite    1914.0  Fell  1976.0   \n",
      "       4       Achiras  370.0  Valid           L6     780.0  Fell  1902.0   \n",
      "...                ...    ...    ...          ...       ...   ...     ...   \n",
      "IMO    42984       NaN    NaN    NaN          NaN       NaN   NaN     NaN   \n",
      "       42985       NaN    NaN    NaN          NaN       NaN   NaN     NaN   \n",
      "       42986       NaN    NaN    NaN          NaN       NaN   NaN     NaN   \n",
      "       42987       NaN    NaN    NaN          NaN       NaN   NaN     NaN   \n",
      "       42988       NaN    NaN    NaN          NaN       NaN   NaN     NaN   \n",
      "\n",
      "                   lat       long               GeoLocation  ...  \\\n",
      "METEOR 0      50.77500    6.08333     (50.775000, 6.083330)  ...   \n",
      "       1      56.18333   10.23333    (56.183330, 10.233330)  ...   \n",
      "       2      54.21667 -113.00000  (54.216670, -113.000000)  ...   \n",
      "       3      16.88333  -99.90000   (16.883330, -99.900000)  ...   \n",
      "       4     -33.16667  -64.95000  (-33.166670, -64.950000)  ...   \n",
      "...                ...        ...                       ...  ...   \n",
      "IMO    42984       NaN        NaN                       NaN  ...   \n",
      "       42985       NaN        NaN                       NaN  ...   \n",
      "       42986       NaN        NaN                       NaN  ...   \n",
      "       42987       NaN        NaN                       NaN  ...   \n",
      "       42988       NaN        NaN                       NaN  ...   \n",
      "\n",
      "                       Start Date Observer ID  Submitter ID  \\\n",
      "METEOR 0                      NaN         NaN           NaN   \n",
      "       1                      NaN         NaN           NaN   \n",
      "       2                      NaN         NaN           NaN   \n",
      "       3                      NaN         NaN           NaN   \n",
      "       4                      NaN         NaN           NaN   \n",
      "...                           ...         ...           ...   \n",
      "IMO    42984  2005-01-10 13:15:00      7956.0        7956.0   \n",
      "       42985  2005-01-13 13:00:00      7956.0        7956.0   \n",
      "       42986  2005-07-29 11:10:00      7956.0        7956.0   \n",
      "       42987  2005-07-30 14:55:00      7956.0        7956.0   \n",
      "       42988  2005-03-09 19:37:00      1651.0        1651.0   \n",
      "\n",
      "              Actual Observer Name    Submitted by                City  \\\n",
      "METEOR 0                       NaN             NaN                 NaN   \n",
      "       1                       NaN             NaN                 NaN   \n",
      "       2                       NaN             NaN                 NaN   \n",
      "       3                       NaN             NaN                 NaN   \n",
      "       4                       NaN             NaN                 NaN   \n",
      "...                            ...             ...                 ...   \n",
      "IMO    42984            Adam Marsh      Adam Marsh  Pakenham, Victoria   \n",
      "       42985            Adam Marsh      Adam Marsh  Pakenham, Victoria   \n",
      "       42986            Adam Marsh      Adam Marsh          Ladys Pass   \n",
      "       42987            Adam Marsh      Adam Marsh          Ladys Pass   \n",
      "       42988        Jaroslaw Dygos  Jaroslaw Dygos     Czernice Borowe   \n",
      "\n",
      "                Country   Latitude   Longitude  Elevation  \n",
      "METEOR 0            NaN        NaN         NaN        NaN  \n",
      "       1            NaN        NaN         NaN        NaN  \n",
      "       2            NaN        NaN         NaN        NaN  \n",
      "       3            NaN        NaN         NaN        NaN  \n",
      "       4            NaN        NaN         NaN        NaN  \n",
      "...                 ...        ...         ...        ...  \n",
      "IMO    42984  Australia -38.000000  145.000000      100.0  \n",
      "       42985  Australia -38.000000  145.000000      100.0  \n",
      "       42986  Australia -36.816110  144.680991      233.0  \n",
      "       42987  Australia -36.816110  144.680991      233.0  \n",
      "       42988     Poland  53.033333   20.716667      150.0  \n",
      "\n",
      "[88755 rows x 21 columns]>\n"
     ]
    }
   ],
   "source": [
    "\"\"\"\n",
    "Esta vez ambos datasets contienen información que, aunque está relacionada, es totalmente diferente,\n",
    "por tanto voy a unirlos teniendo eso en cuenta para tener el máximo orden posible al tratar los\n",
    "datos posteriormente.\n",
    "\"\"\"\n",
    "\n",
    "# Procedo a combinar ambos datasets aplicando un keys para distinguir mejor los datos de cada uno.\n",
    "\n",
    "data_total = pd.concat([data_meteor, data_imo], sort=False, keys=['METEOR', 'IMO'])\n",
    "\n",
    "# Muestro un head y un shape para verificar que se ha cargado correctamente, así como las columnas.\n",
    "\n",
    "print(data_total.head)"
   ]
  },
  {
   "cell_type": "code",
   "execution_count": 27,
   "id": "e83b44da-93ec-4248-a259-1466db584def",
   "metadata": {},
   "outputs": [
    {
     "data": {
      "text/plain": [
       "Index(['name', 'id', 'type', 'recclass', 'mass', 'fall', 'year', 'lat', 'long',\n",
       "       'GeoLocation', 'Session ID', 'Start Date', 'Observer ID',\n",
       "       'Submitter ID', 'Actual Observer Name', 'Submitted by', 'City',\n",
       "       'Country', 'Latitude', 'Longitude', 'Elevation'],\n",
       "      dtype='object')"
      ]
     },
     "execution_count": 27,
     "metadata": {},
     "output_type": "execute_result"
    }
   ],
   "source": [
    "data_total.columns"
   ]
  },
  {
   "cell_type": "code",
   "execution_count": 28,
   "id": "3d8810ab-555b-4941-8bf3-9281cce4b53b",
   "metadata": {},
   "outputs": [
    {
     "data": {
      "text/plain": [
       "(88755, 21)"
      ]
     },
     "execution_count": 28,
     "metadata": {},
     "output_type": "execute_result"
    }
   ],
   "source": [
    "data_total.shape"
   ]
  },
  {
   "cell_type": "markdown",
   "id": "050d024a-fdb5-4b08-b83c-edfefd0740bf",
   "metadata": {},
   "source": [
    "## Limpieza de los datos."
   ]
  },
  {
   "cell_type": "code",
   "execution_count": 29,
   "id": "d4d15c4a-a1d7-4189-83cd-86efe00c2c26",
   "metadata": {},
   "outputs": [],
   "source": [
    "\"\"\"\n",
    "En este apartado llevaremos a cabo la limpieza de los datos. \n",
    "Además de eliminar varias columnas innecesarias que no aportan\n",
    "nada al análisis que se pretende llevar a cabo, se tratarán los\n",
    "NaN's de manera que el resultado final esté lo menos sesgado\n",
    "posible.\n",
    "\"\"\"\n",
    "\n",
    "# Primero eliminaré las columnas que no resultan necesarias.\n",
    "\n",
    "data_total = data_total.drop(['name', 'type', 'GeoLocation', 'Observer ID', 'Submitter ID', 'Actual Observer Name', 'Submitted by'], axis=1)"
   ]
  },
  {
   "cell_type": "code",
   "execution_count": 30,
   "id": "d3bec62c-f890-4b50-9664-ce9127c421f4",
   "metadata": {},
   "outputs": [
    {
     "data": {
      "text/plain": [
       "id            42989\n",
       "recclass      42989\n",
       "mass          43120\n",
       "fall          42989\n",
       "year          43277\n",
       "lat           50304\n",
       "long          50304\n",
       "Session ID    45766\n",
       "Start Date    45766\n",
       "City          45778\n",
       "Country       45778\n",
       "Latitude      45778\n",
       "Longitude     45778\n",
       "Elevation     45778\n",
       "dtype: int64"
      ]
     },
     "execution_count": 30,
     "metadata": {},
     "output_type": "execute_result"
    }
   ],
   "source": [
    "# Comprobaremos el número de NaN's.\n",
    "\n",
    "data_total.isnull().sum()"
   ]
  },
  {
   "cell_type": "code",
   "execution_count": 31,
   "id": "d0cfe3db-0508-4a76-ad30-d90bd70902a2",
   "metadata": {},
   "outputs": [],
   "source": [
    "# Ahora voy a comenzar usando fillna para rellenar los NaN's de la columna 'id' del dataset Meteor con los datos de\n",
    "# la columna 'Session Id' del dataset IMO.\n",
    "\n",
    "data_total['id'] = data_total['id'].fillna(data_total['Session ID'][45766:])"
   ]
  },
  {
   "cell_type": "code",
   "execution_count": 32,
   "id": "98534e44-d192-439b-a7bc-c9afb2ed1814",
   "metadata": {},
   "outputs": [],
   "source": [
    "# Ahora haré lo mismo desde 'Latitude' de IMO a los NaN's de 'lat' en Meteor.\n",
    "\n",
    "data_total['lat'] = data_total['lat'].fillna(data_total['Latitude'][45766:])"
   ]
  },
  {
   "cell_type": "code",
   "execution_count": 33,
   "id": "8d701b78-e1a9-4fb0-babb-14e18a1a34a4",
   "metadata": {},
   "outputs": [],
   "source": [
    "# Igual, pero con 'Longitude' y 'long'.\n",
    "\n",
    "data_total['long'] = data_total['long'].fillna(data_total['Longitude'][45766:])"
   ]
  },
  {
   "cell_type": "code",
   "execution_count": 34,
   "id": "c33db490-0923-46e9-b198-24e2c84140d1",
   "metadata": {},
   "outputs": [
    {
     "name": "stderr",
     "output_type": "stream",
     "text": [
      "<ipython-input-34-36632382c3b3>:4: SettingWithCopyWarning: \n",
      "A value is trying to be set on a copy of a slice from a DataFrame\n",
      "\n",
      "See the caveats in the documentation: https://pandas.pydata.org/pandas-docs/stable/user_guide/indexing.html#returning-a-view-versus-a-copy\n",
      "  data_total['Start Date'][i] = data_total['Start Date'][i][:4]\n"
     ]
    }
   ],
   "source": [
    "# Ahora voy a convertir las fechas de 'Start Date' de IMO al formato de 'year' de Meteor mediante un bucle.\n",
    "\n",
    "for i in range(45766, np.shape(data_total)[0]):\n",
    "    data_total['Start Date'][i] = data_total['Start Date'][i][:4]"
   ]
  },
  {
   "cell_type": "code",
   "execution_count": 35,
   "id": "fa6c52b4-b26a-4338-ab59-1318bc7a4052",
   "metadata": {},
   "outputs": [],
   "source": [
    "# Por último, rellenaré los NaN's de 'year' en Meteor con los datos de 'Start Date' de IMO.\n",
    "\n",
    "data_total['year'] = data_total['year'].fillna(data_total['Start Date'][45766:])"
   ]
  },
  {
   "cell_type": "code",
   "execution_count": 36,
   "id": "d7a5d139-a47c-4128-b10d-4326d57c81f2",
   "metadata": {},
   "outputs": [
    {
     "name": "stdout",
     "output_type": "stream",
     "text": [
      "id                0\n",
      "recclass      42989\n",
      "mass          43120\n",
      "fall          42989\n",
      "year            288\n",
      "lat            7327\n",
      "long           7327\n",
      "Session ID    45766\n",
      "Start Date    45766\n",
      "City          45778\n",
      "Country       45778\n",
      "Latitude      45778\n",
      "Longitude     45778\n",
      "Elevation     45778\n",
      "dtype: int64\n"
     ]
    }
   ],
   "source": [
    "print(data_total.isnull().sum())"
   ]
  },
  {
   "cell_type": "code",
   "execution_count": 37,
   "id": "9693c4a8-effc-43a1-a6a9-93029e97e784",
   "metadata": {},
   "outputs": [],
   "source": [
    "# Elimino el resto de columnas innecesarias (por información duplicada o inservible).\n",
    "\n",
    "data_total = data_total = data_total.drop(['Session ID', 'Start Date', 'City'\n",
    "                                           ,'Latitude', 'Longitude'], axis=1)"
   ]
  },
  {
   "cell_type": "code",
   "execution_count": 38,
   "id": "d8b021ec-6f95-4a46-bba6-ab56b41ff0ed",
   "metadata": {},
   "outputs": [],
   "source": [
    "# Cambio el nombre de la columna 'recclass' a 'class' por comodidad.\n",
    "\n",
    "data_total.rename(columns={'recclass':'class'}, inplace=True)"
   ]
  },
  {
   "cell_type": "markdown",
   "id": "5b6a7f2c-1b35-4db7-a2c4-db8a489933fb",
   "metadata": {},
   "source": [
    "### Tratamiendo del resto de NaN's."
   ]
  },
  {
   "cell_type": "markdown",
   "id": "179d5582-23c4-4138-be14-a52be7e11ce6",
   "metadata": {},
   "source": [
    "#### Reemplazo de los valores numéricos."
   ]
  },
  {
   "cell_type": "code",
   "execution_count": 39,
   "id": "0fad7783-9cf7-44d6-a9b8-d838a287db02",
   "metadata": {},
   "outputs": [
    {
     "name": "stdout",
     "output_type": "stream",
     "text": [
      "id               0\n",
      "class        42989\n",
      "mass             0\n",
      "fall         42989\n",
      "year           288\n",
      "lat              0\n",
      "long             0\n",
      "Country      45778\n",
      "Elevation        0\n",
      "dtype: int64\n"
     ]
    }
   ],
   "source": [
    "# Reemplazo los NaN's numéricos por la media de los mismos y compruebo el resultado.\n",
    "\n",
    "data_total[['mass']] = data_total[['mass']].fillna(data_total[['mass']].mean())\n",
    "data_total[['year']] = data_total[['year']].fillna(data_total[['year']].mean())\n",
    "data_total[['lat']] = data_total[['lat']].fillna(data_total[['lat']].mean())\n",
    "data_total[['long']] = data_total[['long']].fillna(data_total[['long']].mean())\n",
    "data_total[['Elevation']] = data_total[['Elevation']].fillna(data_total[['Elevation']].mean())\n",
    "\n",
    "print(data_total.isnull().sum())"
   ]
  },
  {
   "cell_type": "code",
   "execution_count": 40,
   "id": "95fd8833-3224-4adb-af7d-1dc6e07d627d",
   "metadata": {},
   "outputs": [],
   "source": [
    "# Quedan algunos NaN's en la columna 'year' que no sé cómo tratar,\n",
    "# por tanto eliminaré dichas filas.\n",
    "\n",
    "data_total = data_total.dropna(subset=[\"year\"])"
   ]
  },
  {
   "cell_type": "code",
   "execution_count": 41,
   "id": "3048d19a-2134-4b9f-aa19-d8a27ffd94da",
   "metadata": {},
   "outputs": [],
   "source": [
    "# Reemplazo los NaN's categóricos por 'N/A'.\n",
    "\n",
    "data_total['class'] = data_total['class'].replace(np.NaN, 'N/A')\n",
    "data_total['fall'] = data_total['fall'].replace(np.NaN, 'N/A')\n",
    "data_total['Country'] = data_total['Country'].replace(np.NaN, 'N/A')"
   ]
  },
  {
   "cell_type": "code",
   "execution_count": 42,
   "id": "e17029f4-f4b1-4ce9-8794-2c274f5f6cac",
   "metadata": {},
   "outputs": [
    {
     "data": {
      "text/plain": [
       "<bound method NDFrame.head of                    id        class           mass  fall    year        lat  \\\n",
       "METEOR 0          1.0           L5      21.000000  Fell  1880.0  50.775000   \n",
       "       1          2.0           H6     720.000000  Fell  1951.0  56.183330   \n",
       "       2          6.0          EH4  107000.000000  Fell  1952.0  54.216670   \n",
       "       3         10.0  Acapulcoite    1914.000000  Fell  1976.0  16.883330   \n",
       "       4        370.0           L6     780.000000  Fell  1902.0 -33.166670   \n",
       "...               ...          ...            ...   ...     ...        ...   \n",
       "IMO    42984  75686.0          N/A   13309.119758   N/A    2005 -38.000000   \n",
       "       42985  75687.0          N/A   13309.119758   N/A    2005 -38.000000   \n",
       "       42986  75691.0          N/A   13309.119758   N/A    2005 -36.816110   \n",
       "       42987  75692.0          N/A   13309.119758   N/A    2005 -36.816110   \n",
       "       42988  78769.0          N/A   13309.119758   N/A    2005  53.033333   \n",
       "\n",
       "                    long    Country   Elevation  \n",
       "METEOR 0        6.083330        N/A  333.548386  \n",
       "       1       10.233330        N/A  333.548386  \n",
       "       2     -113.000000        N/A  333.548386  \n",
       "       3      -99.900000        N/A  333.548386  \n",
       "       4      -64.950000        N/A  333.548386  \n",
       "...                  ...        ...         ...  \n",
       "IMO    42984  145.000000  Australia  100.000000  \n",
       "       42985  145.000000  Australia  100.000000  \n",
       "       42986  144.680991  Australia  233.000000  \n",
       "       42987  144.680991  Australia  233.000000  \n",
       "       42988   20.716667     Poland  150.000000  \n",
       "\n",
       "[88467 rows x 9 columns]>"
      ]
     },
     "execution_count": 42,
     "metadata": {},
     "output_type": "execute_result"
    }
   ],
   "source": [
    "# Compruebo cómo ha quedado el dataframe final.\n",
    "\n",
    "data_total.head"
   ]
  },
  {
   "cell_type": "code",
   "execution_count": 43,
   "id": "50fd1a75-0feb-4198-b80e-e410124653dd",
   "metadata": {},
   "outputs": [
    {
     "name": "stdout",
     "output_type": "stream",
     "text": [
      "id           0\n",
      "class        0\n",
      "mass         0\n",
      "fall         0\n",
      "year         0\n",
      "lat          0\n",
      "long         0\n",
      "Country      0\n",
      "Elevation    0\n",
      "dtype: int64\n",
      "(88467, 9)\n"
     ]
    }
   ],
   "source": [
    "print(data_total.isnull().sum())\n",
    "print(data_total.shape)"
   ]
  },
  {
   "cell_type": "code",
   "execution_count": 44,
   "id": "473238e9-e24b-42b9-a4e2-0f4b549fc8c3",
   "metadata": {},
   "outputs": [],
   "source": [
    "# Por último guardaré el dataframe 'data_total' en un '.csv' independiente\n",
    "# en la carpeta 'data' junto a los demás.\n",
    "\n",
    "data_total.to_csv('./data/dataset_meteor_imo.csv', index = False)"
   ]
  },
  {
   "cell_type": "markdown",
   "id": "84ee23fd-f86c-4f9f-a188-9d29c0b1c9e6",
   "metadata": {},
   "source": [
    "## VISUALIZACIONES Y A. EXPLORATORIO."
   ]
  },
  {
   "cell_type": "code",
   "execution_count": 46,
   "id": "03df607b-30e4-41b4-93e5-d87e31371df7",
   "metadata": {},
   "outputs": [
    {
     "data": {
      "image/png": "[encoded data removed]",
      "text/plain": [
       "<Figure size 1008x1008 with 2 Axes>"
      ]
     },
     "metadata": {
      "needs_background": "light"
     },
     "output_type": "display_data"
    }
   ],
   "source": [
    "plt.figure(figsize=(14,14))\n",
    "sns.heatmap(data_total.corr(),\n",
    "           vmin = -1,\n",
    "           vmax = 1,\n",
    "           cmap = sns.diverging_palette(145, 280, s=85, l=25, n=7),\n",
    "           annot = True,\n",
    "           square = True,\n",
    "           linewidths = .5);"
   ]
  },
  {
   "cell_type": "code",
   "execution_count": 47,
   "id": "f3c10187-7af4-4ef8-ad02-ac8018035e20",
   "metadata": {},
   "outputs": [],
   "source": [
    "# He decidido no usar este notebook porque he caído en complicaciones innecesarias."
   ]
  }
 ],
 "metadata": {
  "kernelspec": {
   "display_name": "Python 3",
   "language": "python",
   "name": "python3"
  },
  "language_info": {
   "codemirror_mode": {
    "name": "ipython",
    "version": 3
   },
   "file_extension": ".py",
   "mimetype": "text/x-python",
   "name": "python",
   "nbconvert_exporter": "python",
   "pygments_lexer": "ipython3",
   "version": "3.8.8"
  }
 },
 "nbformat": 4,
 "nbformat_minor": 5
}
